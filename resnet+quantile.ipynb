{
 "cells": [
  {
   "cell_type": "code",
   "execution_count": 1,
   "metadata": {
    "_cell_guid": "79c7e3d0-c299-4dcb-8224-4455121ee9b0",
    "_uuid": "d629ff2d2480ee46fbb7e2d37f6b5fab8052498a",
    "execution": {
     "iopub.execute_input": "2021-12-01T11:30:45.255911Z",
     "iopub.status.busy": "2021-12-01T11:30:45.254345Z",
     "iopub.status.idle": "2021-12-01T11:30:49.690374Z",
     "shell.execute_reply": "2021-12-01T11:30:49.689310Z",
     "shell.execute_reply.started": "2021-11-29T08:24:06.609676Z"
    },
    "papermill": {
     "duration": 4.487212,
     "end_time": "2021-12-01T11:30:49.690531",
     "exception": false,
     "start_time": "2021-12-01T11:30:45.203319",
     "status": "completed"
    },
    "tags": []
   },
   "outputs": [],
   "source": [
    "import os\n",
    "import cv2\n",
    "\n",
    "import pydicom\n",
    "import pandas as pd\n",
    "import numpy as np \n",
    "import tensorflow as tf \n",
    "import matplotlib.pyplot as plt \n",
    "\n",
    "from tqdm.notebook import tqdm "
   ]
  },
  {
   "cell_type": "code",
   "execution_count": 2,
   "metadata": {
    "execution": {
     "iopub.execute_input": "2021-12-01T11:30:49.780851Z",
     "iopub.status.busy": "2021-12-01T11:30:49.780245Z",
     "iopub.status.idle": "2021-12-01T11:30:49.793737Z",
     "shell.execute_reply": "2021-12-01T11:30:49.793205Z",
     "shell.execute_reply.started": "2021-11-29T08:24:11.83243Z"
    },
    "papermill": {
     "duration": 0.0607,
     "end_time": "2021-12-01T11:30:49.793839",
     "exception": false,
     "start_time": "2021-12-01T11:30:49.733139",
     "status": "completed"
    },
    "tags": []
   },
   "outputs": [],
   "source": [
    "train = pd.read_csv('../input/osic-pulmonary-fibrosis-progression/train.csv') "
   ]
  },
  {
   "cell_type": "code",
   "execution_count": 3,
   "metadata": {
    "_cell_guid": "79c7e3d0-c299-4dcb-8224-4455121ee9b0",
    "_uuid": "d629ff2d2480ee46fbb7e2d37f6b5fab8052498a",
    "execution": {
     "iopub.execute_input": "2021-12-01T11:30:49.915006Z",
     "iopub.status.busy": "2021-12-01T11:30:49.914047Z",
     "iopub.status.idle": "2021-12-01T11:30:49.917141Z",
     "shell.execute_reply": "2021-12-01T11:30:49.916664Z",
     "shell.execute_reply.started": "2021-11-29T08:24:11.860573Z"
    },
    "papermill": {
     "duration": 0.07463,
     "end_time": "2021-12-01T11:30:49.917234",
     "exception": false,
     "start_time": "2021-12-01T11:30:49.842604",
     "status": "completed"
    },
    "tags": []
   },
   "outputs": [],
   "source": [
    "import os\n",
    "import cv2\n",
    "\n",
    "import pydicom\n",
    "import pandas as pd\n",
    "import numpy as np \n",
    "import tensorflow as tf \n",
    "import matplotlib.pyplot as plt \n",
    "\n",
    "from tqdm.notebook import tqdm "
   ]
  },
  {
   "cell_type": "code",
   "execution_count": 4,
   "metadata": {
    "_cell_guid": "79c7e3d0-c299-4dcb-8224-4455121ee9b0",
    "_uuid": "d629ff2d2480ee46fbb7e2d37f6b5fab8052498a",
    "execution": {
     "iopub.execute_input": "2021-12-01T11:30:50.005209Z",
     "iopub.status.busy": "2021-12-01T11:30:50.004510Z",
     "iopub.status.idle": "2021-12-01T11:30:50.007881Z",
     "shell.execute_reply": "2021-12-01T11:30:50.007361Z",
     "shell.execute_reply.started": "2021-11-29T08:24:11.873223Z"
    },
    "papermill": {
     "duration": 0.050103,
     "end_time": "2021-12-01T11:30:50.007978",
     "exception": false,
     "start_time": "2021-12-01T11:30:49.957875",
     "status": "completed"
    },
    "tags": []
   },
   "outputs": [],
   "source": [
    "import os\n",
    "import cv2\n",
    "\n",
    "import pydicom\n",
    "import pandas as pd\n",
    "import numpy as np \n",
    "import tensorflow as tf \n",
    "import matplotlib.pyplot as plt \n",
    "\n",
    "from tqdm.notebook import tqdm "
   ]
  },
  {
   "cell_type": "code",
   "execution_count": 5,
   "metadata": {
    "_cell_guid": "79c7e3d0-c299-4dcb-8224-4455121ee9b0",
    "_uuid": "d629ff2d2480ee46fbb7e2d37f6b5fab8052498a",
    "execution": {
     "iopub.execute_input": "2021-12-01T11:30:50.097006Z",
     "iopub.status.busy": "2021-12-01T11:30:50.096254Z",
     "iopub.status.idle": "2021-12-01T11:30:50.098860Z",
     "shell.execute_reply": "2021-12-01T11:30:50.099422Z",
     "shell.execute_reply.started": "2021-11-29T08:24:11.887875Z"
    },
    "papermill": {
     "duration": 0.049343,
     "end_time": "2021-12-01T11:30:50.099617",
     "exception": false,
     "start_time": "2021-12-01T11:30:50.050274",
     "status": "completed"
    },
    "tags": []
   },
   "outputs": [],
   "source": [
    "import os\n",
    "import cv2\n",
    "\n",
    "import pydicom\n",
    "import pandas as pd\n",
    "import numpy as np \n",
    "import tensorflow as tf \n",
    "import matplotlib.pyplot as plt \n",
    "\n",
    "from tqdm.notebook import tqdm "
   ]
  },
  {
   "cell_type": "code",
   "execution_count": 6,
   "metadata": {
    "_cell_guid": "79c7e3d0-c299-4dcb-8224-4455121ee9b0",
    "_uuid": "d629ff2d2480ee46fbb7e2d37f6b5fab8052498a",
    "execution": {
     "iopub.execute_input": "2021-12-01T11:30:50.204308Z",
     "iopub.status.busy": "2021-12-01T11:30:50.203175Z",
     "iopub.status.idle": "2021-12-01T11:30:50.208969Z",
     "shell.execute_reply": "2021-12-01T11:30:50.209344Z",
     "shell.execute_reply.started": "2021-11-29T08:24:11.901176Z"
    },
    "papermill": {
     "duration": 0.068379,
     "end_time": "2021-12-01T11:30:50.209480",
     "exception": false,
     "start_time": "2021-12-01T11:30:50.141101",
     "status": "completed"
    },
    "tags": []
   },
   "outputs": [],
   "source": [
    "import os\n",
    "import cv2\n",
    "\n",
    "import pydicom\n",
    "import pandas as pd\n",
    "import numpy as np \n",
    "import tensorflow as tf \n",
    "import matplotlib.pyplot as plt \n",
    "\n",
    "from tqdm.notebook import tqdm "
   ]
  },
  {
   "cell_type": "code",
   "execution_count": 7,
   "metadata": {
    "_cell_guid": "79c7e3d0-c299-4dcb-8224-4455121ee9b0",
    "_uuid": "d629ff2d2480ee46fbb7e2d37f6b5fab8052498a",
    "execution": {
     "iopub.execute_input": "2021-12-01T11:30:50.317314Z",
     "iopub.status.busy": "2021-12-01T11:30:50.316401Z",
     "iopub.status.idle": "2021-12-01T11:30:50.319451Z",
     "shell.execute_reply": "2021-12-01T11:30:50.319036Z",
     "shell.execute_reply.started": "2021-11-29T08:24:11.911091Z"
    },
    "papermill": {
     "duration": 0.049531,
     "end_time": "2021-12-01T11:30:50.319572",
     "exception": false,
     "start_time": "2021-12-01T11:30:50.270041",
     "status": "completed"
    },
    "tags": []
   },
   "outputs": [],
   "source": [
    "import os\n",
    "import cv2\n",
    "\n",
    "import pydicom\n",
    "import pandas as pd\n",
    "import numpy as np \n",
    "import tensorflow as tf \n",
    "import matplotlib.pyplot as plt \n",
    "\n",
    "from tqdm.notebook import tqdm "
   ]
  },
  {
   "cell_type": "code",
   "execution_count": 8,
   "metadata": {
    "_cell_guid": "79c7e3d0-c299-4dcb-8224-4455121ee9b0",
    "_uuid": "d629ff2d2480ee46fbb7e2d37f6b5fab8052498a",
    "execution": {
     "iopub.execute_input": "2021-12-01T11:30:50.406908Z",
     "iopub.status.busy": "2021-12-01T11:30:50.406138Z",
     "iopub.status.idle": "2021-12-01T11:30:50.409003Z",
     "shell.execute_reply": "2021-12-01T11:30:50.408570Z",
     "shell.execute_reply.started": "2021-11-29T08:24:11.922057Z"
    },
    "papermill": {
     "duration": 0.048962,
     "end_time": "2021-12-01T11:30:50.409102",
     "exception": false,
     "start_time": "2021-12-01T11:30:50.360140",
     "status": "completed"
    },
    "tags": []
   },
   "outputs": [],
   "source": [
    "import os\n",
    "import cv2\n",
    "\n",
    "import pydicom\n",
    "import pandas as pd\n",
    "import numpy as np \n",
    "import tensorflow as tf \n",
    "import matplotlib.pyplot as plt \n",
    "\n",
    "from tqdm.notebook import tqdm "
   ]
  },
  {
   "cell_type": "code",
   "execution_count": 9,
   "metadata": {
    "_cell_guid": "79c7e3d0-c299-4dcb-8224-4455121ee9b0",
    "_uuid": "d629ff2d2480ee46fbb7e2d37f6b5fab8052498a",
    "execution": {
     "iopub.execute_input": "2021-12-01T11:30:50.496355Z",
     "iopub.status.busy": "2021-12-01T11:30:50.495503Z",
     "iopub.status.idle": "2021-12-01T11:30:50.498404Z",
     "shell.execute_reply": "2021-12-01T11:30:50.497926Z",
     "shell.execute_reply.started": "2021-11-29T08:24:11.934759Z"
    },
    "papermill": {
     "duration": 0.048524,
     "end_time": "2021-12-01T11:30:50.498531",
     "exception": false,
     "start_time": "2021-12-01T11:30:50.450007",
     "status": "completed"
    },
    "tags": []
   },
   "outputs": [],
   "source": [
    "import os\n",
    "import cv2\n",
    "\n",
    "import pydicom\n",
    "import pandas as pd\n",
    "import numpy as np \n",
    "import tensorflow as tf \n",
    "import matplotlib.pyplot as plt \n",
    "\n",
    "from tqdm.notebook import tqdm "
   ]
  },
  {
   "cell_type": "code",
   "execution_count": 10,
   "metadata": {
    "_cell_guid": "79c7e3d0-c299-4dcb-8224-4455121ee9b0",
    "_uuid": "d629ff2d2480ee46fbb7e2d37f6b5fab8052498a",
    "execution": {
     "iopub.execute_input": "2021-12-01T11:30:50.627309Z",
     "iopub.status.busy": "2021-12-01T11:30:50.626425Z",
     "iopub.status.idle": "2021-12-01T11:30:50.629024Z",
     "shell.execute_reply": "2021-12-01T11:30:50.628593Z",
     "shell.execute_reply.started": "2021-11-29T08:24:11.945892Z"
    },
    "papermill": {
     "duration": 0.062643,
     "end_time": "2021-12-01T11:30:50.629123",
     "exception": false,
     "start_time": "2021-12-01T11:30:50.566480",
     "status": "completed"
    },
    "tags": []
   },
   "outputs": [],
   "source": [
    "import os\n",
    "import cv2\n",
    "\n",
    "import pydicom\n",
    "import pandas as pd\n",
    "import numpy as np \n",
    "import tensorflow as tf \n",
    "import matplotlib.pyplot as plt \n",
    "\n",
    "from tqdm.notebook import tqdm "
   ]
  },
  {
   "cell_type": "code",
   "execution_count": 11,
   "metadata": {
    "_cell_guid": "79c7e3d0-c299-4dcb-8224-4455121ee9b0",
    "_uuid": "d629ff2d2480ee46fbb7e2d37f6b5fab8052498a",
    "execution": {
     "iopub.execute_input": "2021-12-01T11:30:50.717010Z",
     "iopub.status.busy": "2021-12-01T11:30:50.716226Z",
     "iopub.status.idle": "2021-12-01T11:30:50.718815Z",
     "shell.execute_reply": "2021-12-01T11:30:50.719246Z",
     "shell.execute_reply.started": "2021-11-29T08:24:11.956789Z"
    },
    "papermill": {
     "duration": 0.049044,
     "end_time": "2021-12-01T11:30:50.719370",
     "exception": false,
     "start_time": "2021-12-01T11:30:50.670326",
     "status": "completed"
    },
    "tags": []
   },
   "outputs": [],
   "source": [
    "import os\n",
    "import cv2\n",
    "\n",
    "import pydicom\n",
    "import pandas as pd\n",
    "import numpy as np \n",
    "import tensorflow as tf \n",
    "import matplotlib.pyplot as plt \n",
    "\n",
    "from tqdm.notebook import tqdm "
   ]
  },
  {
   "cell_type": "code",
   "execution_count": 12,
   "metadata": {
    "_cell_guid": "79c7e3d0-c299-4dcb-8224-4455121ee9b0",
    "_uuid": "d629ff2d2480ee46fbb7e2d37f6b5fab8052498a",
    "execution": {
     "iopub.execute_input": "2021-12-01T11:30:50.806012Z",
     "iopub.status.busy": "2021-12-01T11:30:50.805247Z",
     "iopub.status.idle": "2021-12-01T11:30:50.808185Z",
     "shell.execute_reply": "2021-12-01T11:30:50.807761Z",
     "shell.execute_reply.started": "2021-11-29T08:24:11.969268Z"
    },
    "papermill": {
     "duration": 0.048527,
     "end_time": "2021-12-01T11:30:50.808280",
     "exception": false,
     "start_time": "2021-12-01T11:30:50.759753",
     "status": "completed"
    },
    "tags": []
   },
   "outputs": [],
   "source": [
    "import os\n",
    "import cv2\n",
    "\n",
    "import pydicom\n",
    "import pandas as pd\n",
    "import numpy as np \n",
    "import tensorflow as tf \n",
    "import matplotlib.pyplot as plt \n",
    "\n",
    "from tqdm.notebook import tqdm "
   ]
  },
  {
   "cell_type": "code",
   "execution_count": 13,
   "metadata": {
    "_cell_guid": "79c7e3d0-c299-4dcb-8224-4455121ee9b0",
    "_uuid": "d629ff2d2480ee46fbb7e2d37f6b5fab8052498a",
    "execution": {
     "iopub.execute_input": "2021-12-01T11:30:50.898086Z",
     "iopub.status.busy": "2021-12-01T11:30:50.897252Z",
     "iopub.status.idle": "2021-12-01T11:30:50.900283Z",
     "shell.execute_reply": "2021-12-01T11:30:50.899824Z",
     "shell.execute_reply.started": "2021-11-29T08:24:11.980964Z"
    },
    "papermill": {
     "duration": 0.048764,
     "end_time": "2021-12-01T11:30:50.900392",
     "exception": false,
     "start_time": "2021-12-01T11:30:50.851628",
     "status": "completed"
    },
    "tags": []
   },
   "outputs": [],
   "source": [
    "import os\n",
    "import cv2\n",
    "\n",
    "import pydicom\n",
    "import pandas as pd\n",
    "import numpy as np \n",
    "import tensorflow as tf \n",
    "import matplotlib.pyplot as plt \n",
    "\n",
    "from tqdm.notebook import tqdm "
   ]
  },
  {
   "cell_type": "markdown",
   "metadata": {
    "papermill": {
     "duration": 0.040382,
     "end_time": "2021-12-01T11:30:50.981363",
     "exception": false,
     "start_time": "2021-12-01T11:30:50.940981",
     "status": "completed"
    },
    "tags": []
   },
   "source": [
    "## Decay theory\n",
    "Input for test:\n",
    "   * FVC in n week\n",
    "   * Percent in n week \n",
    "   * Age\n",
    "   * Sex\n",
    "   * Smoking status\n",
    "   * CT in n week\n",
    "   \n",
    "Result:\n",
    "   * FVC in any week\n",
    "   * percent in any week\n",
    "   \n",
    "$FVC = a.quantile(0.75) * (week - week_{test}) + FVC_{test}$\n",
    "\n",
    "$Confidence = Percent + a.quantile(0.75) * abs(week - week_{test}) $\n",
    "\n",
    "So let's try predict coefficient a. "
   ]
  },
  {
   "cell_type": "code",
   "execution_count": 14,
   "metadata": {
    "execution": {
     "iopub.execute_input": "2021-12-01T11:30:51.075877Z",
     "iopub.status.busy": "2021-12-01T11:30:51.075210Z",
     "iopub.status.idle": "2021-12-01T11:30:51.086436Z",
     "shell.execute_reply": "2021-12-01T11:30:51.086952Z",
     "shell.execute_reply.started": "2021-11-29T08:24:11.993162Z"
    },
    "papermill": {
     "duration": 0.06491,
     "end_time": "2021-12-01T11:30:51.087081",
     "exception": false,
     "start_time": "2021-12-01T11:30:51.022171",
     "status": "completed"
    },
    "tags": []
   },
   "outputs": [
    {
     "data": {
      "text/html": [
       "<div>\n",
       "<style scoped>\n",
       "    .dataframe tbody tr th:only-of-type {\n",
       "        vertical-align: middle;\n",
       "    }\n",
       "\n",
       "    .dataframe tbody tr th {\n",
       "        vertical-align: top;\n",
       "    }\n",
       "\n",
       "    .dataframe thead th {\n",
       "        text-align: right;\n",
       "    }\n",
       "</style>\n",
       "<table border=\"1\" class=\"dataframe\">\n",
       "  <thead>\n",
       "    <tr style=\"text-align: right;\">\n",
       "      <th></th>\n",
       "      <th>Patient</th>\n",
       "      <th>Weeks</th>\n",
       "      <th>FVC</th>\n",
       "      <th>Percent</th>\n",
       "      <th>Age</th>\n",
       "      <th>Sex</th>\n",
       "      <th>SmokingStatus</th>\n",
       "    </tr>\n",
       "  </thead>\n",
       "  <tbody>\n",
       "    <tr>\n",
       "      <th>0</th>\n",
       "      <td>ID00007637202177411956430</td>\n",
       "      <td>-4</td>\n",
       "      <td>2315</td>\n",
       "      <td>58.253649</td>\n",
       "      <td>79</td>\n",
       "      <td>Male</td>\n",
       "      <td>Ex-smoker</td>\n",
       "    </tr>\n",
       "    <tr>\n",
       "      <th>1</th>\n",
       "      <td>ID00007637202177411956430</td>\n",
       "      <td>5</td>\n",
       "      <td>2214</td>\n",
       "      <td>55.712129</td>\n",
       "      <td>79</td>\n",
       "      <td>Male</td>\n",
       "      <td>Ex-smoker</td>\n",
       "    </tr>\n",
       "    <tr>\n",
       "      <th>2</th>\n",
       "      <td>ID00007637202177411956430</td>\n",
       "      <td>7</td>\n",
       "      <td>2061</td>\n",
       "      <td>51.862104</td>\n",
       "      <td>79</td>\n",
       "      <td>Male</td>\n",
       "      <td>Ex-smoker</td>\n",
       "    </tr>\n",
       "    <tr>\n",
       "      <th>3</th>\n",
       "      <td>ID00007637202177411956430</td>\n",
       "      <td>9</td>\n",
       "      <td>2144</td>\n",
       "      <td>53.950679</td>\n",
       "      <td>79</td>\n",
       "      <td>Male</td>\n",
       "      <td>Ex-smoker</td>\n",
       "    </tr>\n",
       "    <tr>\n",
       "      <th>4</th>\n",
       "      <td>ID00007637202177411956430</td>\n",
       "      <td>11</td>\n",
       "      <td>2069</td>\n",
       "      <td>52.063412</td>\n",
       "      <td>79</td>\n",
       "      <td>Male</td>\n",
       "      <td>Ex-smoker</td>\n",
       "    </tr>\n",
       "  </tbody>\n",
       "</table>\n",
       "</div>"
      ],
      "text/plain": [
       "                     Patient  Weeks   FVC    Percent  Age   Sex SmokingStatus\n",
       "0  ID00007637202177411956430     -4  2315  58.253649   79  Male     Ex-smoker\n",
       "1  ID00007637202177411956430      5  2214  55.712129   79  Male     Ex-smoker\n",
       "2  ID00007637202177411956430      7  2061  51.862104   79  Male     Ex-smoker\n",
       "3  ID00007637202177411956430      9  2144  53.950679   79  Male     Ex-smoker\n",
       "4  ID00007637202177411956430     11  2069  52.063412   79  Male     Ex-smoker"
      ]
     },
     "execution_count": 14,
     "metadata": {},
     "output_type": "execute_result"
    }
   ],
   "source": [
    "train.head()"
   ]
  },
  {
   "cell_type": "code",
   "execution_count": 15,
   "metadata": {
    "execution": {
     "iopub.execute_input": "2021-12-01T11:30:51.183462Z",
     "iopub.status.busy": "2021-12-01T11:30:51.182621Z",
     "iopub.status.idle": "2021-12-01T11:30:51.186475Z",
     "shell.execute_reply": "2021-12-01T11:30:51.186030Z",
     "shell.execute_reply.started": "2021-11-29T08:24:12.024016Z"
    },
    "papermill": {
     "duration": 0.054209,
     "end_time": "2021-12-01T11:30:51.186598",
     "exception": false,
     "start_time": "2021-12-01T11:30:51.132389",
     "status": "completed"
    },
    "tags": []
   },
   "outputs": [
    {
     "data": {
      "text/plain": [
       "array(['Ex-smoker', 'Never smoked', 'Currently smokes'], dtype=object)"
      ]
     },
     "execution_count": 15,
     "metadata": {},
     "output_type": "execute_result"
    }
   ],
   "source": [
    "train.SmokingStatus.unique()"
   ]
  },
  {
   "cell_type": "code",
   "execution_count": 16,
   "metadata": {
    "execution": {
     "iopub.execute_input": "2021-12-01T11:30:51.279749Z",
     "iopub.status.busy": "2021-12-01T11:30:51.278814Z",
     "iopub.status.idle": "2021-12-01T11:30:51.281716Z",
     "shell.execute_reply": "2021-12-01T11:30:51.281157Z",
     "shell.execute_reply.started": "2021-11-29T08:24:12.040406Z"
    },
    "papermill": {
     "duration": 0.053243,
     "end_time": "2021-12-01T11:30:51.281827",
     "exception": false,
     "start_time": "2021-12-01T11:30:51.228584",
     "status": "completed"
    },
    "tags": []
   },
   "outputs": [],
   "source": [
    "def get_tab(df):\n",
    "    vector = [(df.Age.values[0] - 30) / 30] \n",
    "    \n",
    "    if df.Sex.values[0] == 'male':\n",
    "       vector.append(0)\n",
    "    else:\n",
    "       vector.append(1)\n",
    "    \n",
    "    if df.SmokingStatus.values[0] == 'Never smoked':\n",
    "        vector.extend([0,0])\n",
    "    elif df.SmokingStatus.values[0] == 'Ex-smoker':\n",
    "        vector.extend([1,1])\n",
    "    elif df.SmokingStatus.values[0] == 'Currently smokes':\n",
    "        vector.extend([0,1])\n",
    "    else:\n",
    "        vector.extend([1,0])\n",
    "    return np.array(vector) "
   ]
  },
  {
   "cell_type": "code",
   "execution_count": 17,
   "metadata": {
    "execution": {
     "iopub.execute_input": "2021-12-01T11:30:51.374317Z",
     "iopub.status.busy": "2021-12-01T11:30:51.373573Z",
     "iopub.status.idle": "2021-12-01T11:30:51.714736Z",
     "shell.execute_reply": "2021-12-01T11:30:51.712400Z",
     "shell.execute_reply.started": "2021-11-29T08:24:12.055798Z"
    },
    "papermill": {
     "duration": 0.390439,
     "end_time": "2021-12-01T11:30:51.714855",
     "exception": false,
     "start_time": "2021-12-01T11:30:51.324416",
     "status": "completed"
    },
    "tags": []
   },
   "outputs": [
    {
     "data": {
      "application/vnd.jupyter.widget-view+json": {
       "model_id": "c1a4d0dc7b144a978ef1c72f947da1c8",
       "version_major": 2,
       "version_minor": 0
      },
      "text/plain": [
       "HBox(children=(FloatProgress(value=1.0, bar_style='info', max=1.0), HTML(value='')))"
      ]
     },
     "metadata": {},
     "output_type": "display_data"
    },
    {
     "name": "stdout",
     "output_type": "stream",
     "text": [
      "\n"
     ]
    },
    {
     "name": "stderr",
     "output_type": "stream",
     "text": [
      "/opt/conda/lib/python3.7/site-packages/ipykernel_launcher.py:9: FutureWarning: `rcond` parameter will change to the default of machine precision times ``max(M, N)`` where M and N are the input matrix dimensions.\n",
      "To use the future default and silence this warning we advise to pass `rcond=None`, to keep using the old, explicitly pass `rcond=-1`.\n",
      "  if __name__ == '__main__':\n"
     ]
    }
   ],
   "source": [
    "A = {} \n",
    "TAB = {} \n",
    "P = [] \n",
    "for i, p in tqdm(enumerate(train.Patient.unique())):\n",
    "    sub = train.loc[train.Patient == p, :] \n",
    "    fvc = sub.FVC.values\n",
    "    weeks = sub.Weeks.values\n",
    "    c = np.vstack([weeks, np.ones(len(weeks))]).T\n",
    "    a, b = np.linalg.lstsq(c, fvc)[0]\n",
    "    \n",
    "    A[p] = a\n",
    "    TAB[p] = get_tab(sub)\n",
    "    P.append(p)"
   ]
  },
  {
   "cell_type": "markdown",
   "metadata": {
    "papermill": {
     "duration": 0.043107,
     "end_time": "2021-12-01T11:30:51.800848",
     "exception": false,
     "start_time": "2021-12-01T11:30:51.757741",
     "status": "completed"
    },
    "tags": []
   },
   "source": [
    "## CNN for coeff prediction"
   ]
  },
  {
   "cell_type": "code",
   "execution_count": 18,
   "metadata": {
    "execution": {
     "iopub.execute_input": "2021-12-01T11:30:51.947776Z",
     "iopub.status.busy": "2021-12-01T11:30:51.946870Z",
     "iopub.status.idle": "2021-12-01T11:30:51.949654Z",
     "shell.execute_reply": "2021-12-01T11:30:51.950359Z",
     "shell.execute_reply.started": "2021-11-29T08:24:12.464646Z"
    },
    "papermill": {
     "duration": 0.09434,
     "end_time": "2021-12-01T11:30:51.950574",
     "exception": false,
     "start_time": "2021-12-01T11:30:51.856234",
     "status": "completed"
    },
    "tags": []
   },
   "outputs": [],
   "source": [
    "def get_img(path):\n",
    "    d = pydicom.dcmread(path)\n",
    "    return cv2.resize(d.pixel_array / 2**11, (512, 512))"
   ]
  },
  {
   "cell_type": "code",
   "execution_count": 19,
   "metadata": {
    "execution": {
     "iopub.execute_input": "2021-12-01T11:30:52.158685Z",
     "iopub.status.busy": "2021-12-01T11:30:52.151829Z",
     "iopub.status.idle": "2021-12-01T11:30:52.222050Z",
     "shell.execute_reply": "2021-12-01T11:30:52.223189Z",
     "shell.execute_reply.started": "2021-11-29T08:24:12.474932Z"
    },
    "papermill": {
     "duration": 0.203913,
     "end_time": "2021-12-01T11:30:52.223473",
     "exception": false,
     "start_time": "2021-12-01T11:30:52.019560",
     "status": "completed"
    },
    "tags": []
   },
   "outputs": [],
   "source": [
    "from tensorflow.keras.utils import Sequence\n",
    "\n",
    "class IGenerator(Sequence):\n",
    "    BAD_ID = ['ID00011637202177653955184', 'ID00052637202186188008618']\n",
    "    def __init__(self, keys, a, tab, batch_size=32):\n",
    "        self.keys = [k for k in keys if k not in self.BAD_ID]\n",
    "        self.a = a\n",
    "        self.tab = tab\n",
    "        self.batch_size = batch_size\n",
    "        \n",
    "        self.train_data = {}\n",
    "        for p in train.Patient.values:\n",
    "            self.train_data[p] = os.listdir(f'../input/osic-pulmonary-fibrosis-progression/train/{p}/')\n",
    "    \n",
    "    def __len__(self):\n",
    "        return 1000\n",
    "    \n",
    "    def __getitem__(self, idx):\n",
    "        x = []\n",
    "        a, tab = [], [] \n",
    "        keys = np.random.choice(self.keys, size = self.batch_size)\n",
    "        for k in keys:\n",
    "            try:\n",
    "                i = np.random.choice(self.train_data[k], size=1)[0]\n",
    "                img = get_img(f'../input/osic-pulmonary-fibrosis-progression/train/{k}/{i}')\n",
    "                x.append(img)\n",
    "                a.append(self.a[k])\n",
    "                tab.append(self.tab[k])\n",
    "            except:\n",
    "                print(k, i)\n",
    "       \n",
    "        x,a,tab = np.array(x), np.array(a), np.array(tab)\n",
    "        x = np.expand_dims(x, axis=-1)\n",
    "        return [x, tab] , a"
   ]
  },
  {
   "cell_type": "code",
   "execution_count": 20,
   "metadata": {
    "execution": {
     "iopub.execute_input": "2021-12-01T11:30:52.517219Z",
     "iopub.status.busy": "2021-12-01T11:30:52.516292Z",
     "iopub.status.idle": "2021-12-01T11:30:52.664474Z",
     "shell.execute_reply": "2021-12-01T11:30:52.665419Z",
     "shell.execute_reply.started": "2021-11-29T08:24:12.498481Z"
    },
    "papermill": {
     "duration": 0.291784,
     "end_time": "2021-12-01T11:30:52.665623",
     "exception": false,
     "start_time": "2021-12-01T11:30:52.373839",
     "status": "completed"
    },
    "tags": []
   },
   "outputs": [],
   "source": [
    "from tensorflow.keras.layers import (\n",
    "    Dense, Dropout, Activation, Flatten, Input, BatchNormalization, GlobalAveragePooling2D, Add, Conv2D, AveragePooling2D, \n",
    "    LeakyReLU, Concatenate \n",
    ")\n",
    "\n",
    "from tensorflow.keras import Model\n",
    "from tensorflow.keras.optimizers import Nadam\n",
    "from tensorflow.keras.layers import GlobalAveragePooling2D, Reshape, Dense, Permute, multiply\n",
    "import tensorflow.keras.backend as K\n",
    "from keras.regularizers import l2\n",
    "\n",
    "def get_model(shape=(512, 512, 1)):\n",
    "    \n",
    "    def squeeze_excite_block(in_block, ch, ratio=16):\n",
    "        x = GlobalAveragePooling2D()(in_block)\n",
    "        x = Dense(ch//ratio, activation='relu')(x)\n",
    "        x = Dense(ch, activation='sigmoid')(x)\n",
    "        return multiply([in_block, x])\n",
    "    def res_block(x, n_features):\n",
    "        _x = x\n",
    "        x = BatchNormalization()(x)\n",
    "        x = LeakyReLU(0.05)(x)\n",
    "    \n",
    "        x = Conv2D(n_features, kernel_size=(3, 3), strides=(1, 1), padding='same')(x)\n",
    "        #x = squeeze_excite_block(x, n_features)\n",
    "        x = Add()([_x, x])\n",
    "        return x\n",
    "    \n",
    "    inp = Input(shape=shape)\n",
    "\n",
    "    \n",
    "    # 512\n",
    "    \n",
    "    \n",
    "    x = Conv2D(32, kernel_size=(3, 3), strides=(1, 1), padding='same')(inp)\n",
    "    x = BatchNormalization()(x)\n",
    "    x = LeakyReLU(0.05)(x)\n",
    "    \n",
    "    x = AveragePooling2D(pool_size=(2, 2), strides=(2, 2))(x)\n",
    "    \n",
    "    # 256\n",
    "    x = Conv2D(8, kernel_size=(3, 3),  kernel_regularizer=l2(4e-5),strides=(1, 1), padding='same')(x)\n",
    "    for _ in range(2):\n",
    "        x = res_block(x, 8)\n",
    "    x = AveragePooling2D(pool_size=(2, 2), strides=(2, 2))(x)\n",
    "    \n",
    "    # 128\n",
    "    x = Conv2D(16, kernel_size=(3, 3), kernel_regularizer=l2(4e-5),strides=(1, 1), padding='same')(x)\n",
    "    for _ in range(2):\n",
    "        x = res_block(x, 16)\n",
    "    x = AveragePooling2D(pool_size=(2, 2), strides=(2, 2))(x)\n",
    "    \n",
    "    # 64\n",
    "    x = Conv2D(32, kernel_size=(3, 3), kernel_regularizer=l2(4e-5),strides=(1, 1), padding='same')(x)\n",
    "    for _ in range(3):\n",
    "        x = res_block(x, 32)\n",
    "    x = AveragePooling2D(pool_size=(2, 2), strides=(2, 2))(x)\n",
    "    \n",
    "    # 32\n",
    "    x = Conv2D(64, kernel_size=(3, 3), kernel_regularizer=l2(4e-5),strides=(1, 1), padding='same')(x)\n",
    "    for _ in range(3):\n",
    "        x = res_block(x, 64)\n",
    "    x = AveragePooling2D(pool_size=(2, 2), strides=(2, 2))(x)    \n",
    "    \n",
    "    # 16\n",
    "    x = Conv2D(128, kernel_size=(3, 3), kernel_regularizer=l2(4e-5),strides=(1, 1), padding='same')(x)\n",
    "    for _ in range(3):\n",
    "        x = res_block(x, 128)\n",
    "        \n",
    "    # 16\n",
    "    x = GlobalAveragePooling2D()(x)\n",
    "    \n",
    "    inp2 = Input(shape=(4,))\n",
    "    x2 = tf.keras.layers.GaussianNoise(0.2)(inp2)\n",
    "    x = Concatenate()([x, x2]) \n",
    "    x = Dropout(0.5)(x) \n",
    "    x = Dense(1)(x)\n",
    "    #x2 = Dense(1)(x)\n",
    "    return Model([inp, inp2] , x)"
   ]
  },
  {
   "cell_type": "code",
   "execution_count": 21,
   "metadata": {
    "execution": {
     "iopub.execute_input": "2021-12-01T11:30:52.816186Z",
     "iopub.status.busy": "2021-12-01T11:30:52.815349Z",
     "iopub.status.idle": "2021-12-01T11:30:55.955309Z",
     "shell.execute_reply": "2021-12-01T11:30:55.954341Z",
     "shell.execute_reply.started": "2021-11-29T08:24:12.647678Z"
    },
    "papermill": {
     "duration": 3.218414,
     "end_time": "2021-12-01T11:30:55.955483",
     "exception": false,
     "start_time": "2021-12-01T11:30:52.737069",
     "status": "completed"
    },
    "tags": []
   },
   "outputs": [
    {
     "name": "stdout",
     "output_type": "stream",
     "text": [
      "Model: \"model\"\n",
      "__________________________________________________________________________________________________\n",
      "Layer (type)                    Output Shape         Param #     Connected to                     \n",
      "==================================================================================================\n",
      "input_1 (InputLayer)            [(None, 512, 512, 1) 0                                            \n",
      "__________________________________________________________________________________________________\n",
      "conv2d (Conv2D)                 (None, 512, 512, 32) 320         input_1[0][0]                    \n",
      "__________________________________________________________________________________________________\n",
      "batch_normalization (BatchNorma (None, 512, 512, 32) 128         conv2d[0][0]                     \n",
      "__________________________________________________________________________________________________\n",
      "leaky_re_lu (LeakyReLU)         (None, 512, 512, 32) 0           batch_normalization[0][0]        \n",
      "__________________________________________________________________________________________________\n",
      "average_pooling2d (AveragePooli (None, 256, 256, 32) 0           leaky_re_lu[0][0]                \n",
      "__________________________________________________________________________________________________\n",
      "conv2d_1 (Conv2D)               (None, 256, 256, 8)  2312        average_pooling2d[0][0]          \n",
      "__________________________________________________________________________________________________\n",
      "batch_normalization_1 (BatchNor (None, 256, 256, 8)  32          conv2d_1[0][0]                   \n",
      "__________________________________________________________________________________________________\n",
      "leaky_re_lu_1 (LeakyReLU)       (None, 256, 256, 8)  0           batch_normalization_1[0][0]      \n",
      "__________________________________________________________________________________________________\n",
      "conv2d_2 (Conv2D)               (None, 256, 256, 8)  584         leaky_re_lu_1[0][0]              \n",
      "__________________________________________________________________________________________________\n",
      "add (Add)                       (None, 256, 256, 8)  0           conv2d_1[0][0]                   \n",
      "                                                                 conv2d_2[0][0]                   \n",
      "__________________________________________________________________________________________________\n",
      "batch_normalization_2 (BatchNor (None, 256, 256, 8)  32          add[0][0]                        \n",
      "__________________________________________________________________________________________________\n",
      "leaky_re_lu_2 (LeakyReLU)       (None, 256, 256, 8)  0           batch_normalization_2[0][0]      \n",
      "__________________________________________________________________________________________________\n",
      "conv2d_3 (Conv2D)               (None, 256, 256, 8)  584         leaky_re_lu_2[0][0]              \n",
      "__________________________________________________________________________________________________\n",
      "add_1 (Add)                     (None, 256, 256, 8)  0           add[0][0]                        \n",
      "                                                                 conv2d_3[0][0]                   \n",
      "__________________________________________________________________________________________________\n",
      "average_pooling2d_1 (AveragePoo (None, 128, 128, 8)  0           add_1[0][0]                      \n",
      "__________________________________________________________________________________________________\n",
      "conv2d_4 (Conv2D)               (None, 128, 128, 16) 1168        average_pooling2d_1[0][0]        \n",
      "__________________________________________________________________________________________________\n",
      "batch_normalization_3 (BatchNor (None, 128, 128, 16) 64          conv2d_4[0][0]                   \n",
      "__________________________________________________________________________________________________\n",
      "leaky_re_lu_3 (LeakyReLU)       (None, 128, 128, 16) 0           batch_normalization_3[0][0]      \n",
      "__________________________________________________________________________________________________\n",
      "conv2d_5 (Conv2D)               (None, 128, 128, 16) 2320        leaky_re_lu_3[0][0]              \n",
      "__________________________________________________________________________________________________\n",
      "add_2 (Add)                     (None, 128, 128, 16) 0           conv2d_4[0][0]                   \n",
      "                                                                 conv2d_5[0][0]                   \n",
      "__________________________________________________________________________________________________\n",
      "batch_normalization_4 (BatchNor (None, 128, 128, 16) 64          add_2[0][0]                      \n",
      "__________________________________________________________________________________________________\n",
      "leaky_re_lu_4 (LeakyReLU)       (None, 128, 128, 16) 0           batch_normalization_4[0][0]      \n",
      "__________________________________________________________________________________________________\n",
      "conv2d_6 (Conv2D)               (None, 128, 128, 16) 2320        leaky_re_lu_4[0][0]              \n",
      "__________________________________________________________________________________________________\n",
      "add_3 (Add)                     (None, 128, 128, 16) 0           add_2[0][0]                      \n",
      "                                                                 conv2d_6[0][0]                   \n",
      "__________________________________________________________________________________________________\n",
      "average_pooling2d_2 (AveragePoo (None, 64, 64, 16)   0           add_3[0][0]                      \n",
      "__________________________________________________________________________________________________\n",
      "conv2d_7 (Conv2D)               (None, 64, 64, 32)   4640        average_pooling2d_2[0][0]        \n",
      "__________________________________________________________________________________________________\n",
      "batch_normalization_5 (BatchNor (None, 64, 64, 32)   128         conv2d_7[0][0]                   \n",
      "__________________________________________________________________________________________________\n",
      "leaky_re_lu_5 (LeakyReLU)       (None, 64, 64, 32)   0           batch_normalization_5[0][0]      \n",
      "__________________________________________________________________________________________________\n",
      "conv2d_8 (Conv2D)               (None, 64, 64, 32)   9248        leaky_re_lu_5[0][0]              \n",
      "__________________________________________________________________________________________________\n",
      "add_4 (Add)                     (None, 64, 64, 32)   0           conv2d_7[0][0]                   \n",
      "                                                                 conv2d_8[0][0]                   \n",
      "__________________________________________________________________________________________________\n",
      "batch_normalization_6 (BatchNor (None, 64, 64, 32)   128         add_4[0][0]                      \n",
      "__________________________________________________________________________________________________\n",
      "leaky_re_lu_6 (LeakyReLU)       (None, 64, 64, 32)   0           batch_normalization_6[0][0]      \n",
      "__________________________________________________________________________________________________\n",
      "conv2d_9 (Conv2D)               (None, 64, 64, 32)   9248        leaky_re_lu_6[0][0]              \n",
      "__________________________________________________________________________________________________\n",
      "add_5 (Add)                     (None, 64, 64, 32)   0           add_4[0][0]                      \n",
      "                                                                 conv2d_9[0][0]                   \n",
      "__________________________________________________________________________________________________\n",
      "batch_normalization_7 (BatchNor (None, 64, 64, 32)   128         add_5[0][0]                      \n",
      "__________________________________________________________________________________________________\n",
      "leaky_re_lu_7 (LeakyReLU)       (None, 64, 64, 32)   0           batch_normalization_7[0][0]      \n",
      "__________________________________________________________________________________________________\n",
      "conv2d_10 (Conv2D)              (None, 64, 64, 32)   9248        leaky_re_lu_7[0][0]              \n",
      "__________________________________________________________________________________________________\n",
      "add_6 (Add)                     (None, 64, 64, 32)   0           add_5[0][0]                      \n",
      "                                                                 conv2d_10[0][0]                  \n",
      "__________________________________________________________________________________________________\n",
      "average_pooling2d_3 (AveragePoo (None, 32, 32, 32)   0           add_6[0][0]                      \n",
      "__________________________________________________________________________________________________\n",
      "conv2d_11 (Conv2D)              (None, 32, 32, 64)   18496       average_pooling2d_3[0][0]        \n",
      "__________________________________________________________________________________________________\n",
      "batch_normalization_8 (BatchNor (None, 32, 32, 64)   256         conv2d_11[0][0]                  \n",
      "__________________________________________________________________________________________________\n",
      "leaky_re_lu_8 (LeakyReLU)       (None, 32, 32, 64)   0           batch_normalization_8[0][0]      \n",
      "__________________________________________________________________________________________________\n",
      "conv2d_12 (Conv2D)              (None, 32, 32, 64)   36928       leaky_re_lu_8[0][0]              \n",
      "__________________________________________________________________________________________________\n",
      "add_7 (Add)                     (None, 32, 32, 64)   0           conv2d_11[0][0]                  \n",
      "                                                                 conv2d_12[0][0]                  \n",
      "__________________________________________________________________________________________________\n",
      "batch_normalization_9 (BatchNor (None, 32, 32, 64)   256         add_7[0][0]                      \n",
      "__________________________________________________________________________________________________\n",
      "leaky_re_lu_9 (LeakyReLU)       (None, 32, 32, 64)   0           batch_normalization_9[0][0]      \n",
      "__________________________________________________________________________________________________\n",
      "conv2d_13 (Conv2D)              (None, 32, 32, 64)   36928       leaky_re_lu_9[0][0]              \n",
      "__________________________________________________________________________________________________\n",
      "add_8 (Add)                     (None, 32, 32, 64)   0           add_7[0][0]                      \n",
      "                                                                 conv2d_13[0][0]                  \n",
      "__________________________________________________________________________________________________\n",
      "batch_normalization_10 (BatchNo (None, 32, 32, 64)   256         add_8[0][0]                      \n",
      "__________________________________________________________________________________________________\n",
      "leaky_re_lu_10 (LeakyReLU)      (None, 32, 32, 64)   0           batch_normalization_10[0][0]     \n",
      "__________________________________________________________________________________________________\n",
      "conv2d_14 (Conv2D)              (None, 32, 32, 64)   36928       leaky_re_lu_10[0][0]             \n",
      "__________________________________________________________________________________________________\n",
      "add_9 (Add)                     (None, 32, 32, 64)   0           add_8[0][0]                      \n",
      "                                                                 conv2d_14[0][0]                  \n",
      "__________________________________________________________________________________________________\n",
      "average_pooling2d_4 (AveragePoo (None, 16, 16, 64)   0           add_9[0][0]                      \n",
      "__________________________________________________________________________________________________\n",
      "conv2d_15 (Conv2D)              (None, 16, 16, 128)  73856       average_pooling2d_4[0][0]        \n",
      "__________________________________________________________________________________________________\n",
      "batch_normalization_11 (BatchNo (None, 16, 16, 128)  512         conv2d_15[0][0]                  \n",
      "__________________________________________________________________________________________________\n",
      "leaky_re_lu_11 (LeakyReLU)      (None, 16, 16, 128)  0           batch_normalization_11[0][0]     \n",
      "__________________________________________________________________________________________________\n",
      "conv2d_16 (Conv2D)              (None, 16, 16, 128)  147584      leaky_re_lu_11[0][0]             \n",
      "__________________________________________________________________________________________________\n",
      "add_10 (Add)                    (None, 16, 16, 128)  0           conv2d_15[0][0]                  \n",
      "                                                                 conv2d_16[0][0]                  \n",
      "__________________________________________________________________________________________________\n",
      "batch_normalization_12 (BatchNo (None, 16, 16, 128)  512         add_10[0][0]                     \n",
      "__________________________________________________________________________________________________\n",
      "leaky_re_lu_12 (LeakyReLU)      (None, 16, 16, 128)  0           batch_normalization_12[0][0]     \n",
      "__________________________________________________________________________________________________\n",
      "conv2d_17 (Conv2D)              (None, 16, 16, 128)  147584      leaky_re_lu_12[0][0]             \n",
      "__________________________________________________________________________________________________\n",
      "add_11 (Add)                    (None, 16, 16, 128)  0           add_10[0][0]                     \n",
      "                                                                 conv2d_17[0][0]                  \n",
      "__________________________________________________________________________________________________\n",
      "batch_normalization_13 (BatchNo (None, 16, 16, 128)  512         add_11[0][0]                     \n",
      "__________________________________________________________________________________________________\n",
      "leaky_re_lu_13 (LeakyReLU)      (None, 16, 16, 128)  0           batch_normalization_13[0][0]     \n",
      "__________________________________________________________________________________________________\n",
      "conv2d_18 (Conv2D)              (None, 16, 16, 128)  147584      leaky_re_lu_13[0][0]             \n",
      "__________________________________________________________________________________________________\n",
      "add_12 (Add)                    (None, 16, 16, 128)  0           add_11[0][0]                     \n",
      "                                                                 conv2d_18[0][0]                  \n",
      "__________________________________________________________________________________________________\n",
      "input_2 (InputLayer)            [(None, 4)]          0                                            \n",
      "__________________________________________________________________________________________________\n",
      "global_average_pooling2d (Globa (None, 128)          0           add_12[0][0]                     \n",
      "__________________________________________________________________________________________________\n",
      "gaussian_noise (GaussianNoise)  (None, 4)            0           input_2[0][0]                    \n",
      "__________________________________________________________________________________________________\n",
      "concatenate (Concatenate)       (None, 132)          0           global_average_pooling2d[0][0]   \n",
      "                                                                 gaussian_noise[0][0]             \n",
      "__________________________________________________________________________________________________\n",
      "dropout (Dropout)               (None, 132)          0           concatenate[0][0]                \n",
      "__________________________________________________________________________________________________\n",
      "dense (Dense)                   (None, 1)            133         dropout[0][0]                    \n",
      "==================================================================================================\n",
      "Total params: 691,021\n",
      "Trainable params: 689,517\n",
      "Non-trainable params: 1,504\n",
      "__________________________________________________________________________________________________\n"
     ]
    }
   ],
   "source": [
    "model = get_model() \n",
    "model.summary() "
   ]
  },
  {
   "cell_type": "code",
   "execution_count": 22,
   "metadata": {
    "execution": {
     "iopub.execute_input": "2021-12-01T11:30:56.057407Z",
     "iopub.status.busy": "2021-12-01T11:30:56.056249Z",
     "iopub.status.idle": "2021-12-01T11:30:56.170517Z",
     "shell.execute_reply": "2021-12-01T11:30:56.169052Z",
     "shell.execute_reply.started": "2021-11-29T08:24:16.4807Z"
    },
    "papermill": {
     "duration": 0.163571,
     "end_time": "2021-12-01T11:30:56.170656",
     "exception": false,
     "start_time": "2021-12-01T11:30:56.007085",
     "status": "completed"
    },
    "tags": []
   },
   "outputs": [],
   "source": [
    "from tensorflow_addons.optimizers import RectifiedAdam\n",
    "\n",
    "model.compile(optimizer=tf.keras.optimizers.Adam(learning_rate=0.001), loss='mae') "
   ]
  },
  {
   "cell_type": "code",
   "execution_count": 23,
   "metadata": {
    "execution": {
     "iopub.execute_input": "2021-12-01T11:30:56.262816Z",
     "iopub.status.busy": "2021-12-01T11:30:56.262002Z",
     "iopub.status.idle": "2021-12-01T11:30:56.811915Z",
     "shell.execute_reply": "2021-12-01T11:30:56.811304Z",
     "shell.execute_reply.started": "2021-11-29T08:24:16.635477Z"
    },
    "papermill": {
     "duration": 0.598122,
     "end_time": "2021-12-01T11:30:56.812030",
     "exception": false,
     "start_time": "2021-12-01T11:30:56.213908",
     "status": "completed"
    },
    "tags": []
   },
   "outputs": [],
   "source": [
    "from sklearn.model_selection import train_test_split \n",
    "\n",
    "tr_p, vl_p = train_test_split(P, \n",
    "                              shuffle=True, \n",
    "                              train_size= 0.8) "
   ]
  },
  {
   "cell_type": "code",
   "execution_count": 24,
   "metadata": {
    "execution": {
     "iopub.execute_input": "2021-12-01T11:30:56.905052Z",
     "iopub.status.busy": "2021-12-01T11:30:56.904356Z",
     "iopub.status.idle": "2021-12-01T11:30:57.178747Z",
     "shell.execute_reply": "2021-12-01T11:30:57.179184Z",
     "shell.execute_reply.started": "2021-11-29T08:24:17.262111Z"
    },
    "papermill": {
     "duration": 0.323192,
     "end_time": "2021-12-01T11:30:57.179311",
     "exception": false,
     "start_time": "2021-12-01T11:30:56.856119",
     "status": "completed"
    },
    "tags": []
   },
   "outputs": [
    {
     "data": {
      "image/png": "[encoded data removed]",
      "text/plain": [
       "<Figure size 432x288 with 1 Axes>"
      ]
     },
     "metadata": {
      "needs_background": "light"
     },
     "output_type": "display_data"
    }
   ],
   "source": [
    "import seaborn as sns\n",
    "\n",
    "sns.distplot(list(A.values()));"
   ]
  },
  {
   "cell_type": "code",
   "execution_count": 25,
   "metadata": {
    "execution": {
     "iopub.execute_input": "2021-12-01T11:30:57.275276Z",
     "iopub.status.busy": "2021-12-01T11:30:57.274367Z",
     "iopub.status.idle": "2021-12-01T11:30:57.276727Z",
     "shell.execute_reply": "2021-12-01T11:30:57.277226Z",
     "shell.execute_reply.started": "2021-11-29T08:24:17.588801Z"
    },
    "papermill": {
     "duration": 0.052648,
     "end_time": "2021-12-01T11:30:57.277351",
     "exception": false,
     "start_time": "2021-12-01T11:30:57.224703",
     "status": "completed"
    },
    "tags": []
   },
   "outputs": [],
   "source": [
    "er = tf.keras.callbacks.EarlyStopping(\n",
    "    monitor=\"val_loss\",\n",
    "    min_delta=1e-3,\n",
    "    patience=5,\n",
    "    verbose=0,\n",
    "    mode=\"auto\",\n",
    "    baseline=None,\n",
    "    restore_best_weights=True,\n",
    ")"
   ]
  },
  {
   "cell_type": "code",
   "execution_count": 26,
   "metadata": {
    "execution": {
     "iopub.execute_input": "2021-12-01T11:30:57.370793Z",
     "iopub.status.busy": "2021-12-01T11:30:57.370241Z",
     "iopub.status.idle": "2021-12-01T11:38:47.144265Z",
     "shell.execute_reply": "2021-12-01T11:38:47.143538Z",
     "shell.execute_reply.started": "2021-11-29T08:24:17.599244Z"
    },
    "papermill": {
     "duration": 469.822883,
     "end_time": "2021-12-01T11:38:47.144423",
     "exception": false,
     "start_time": "2021-12-01T11:30:57.321540",
     "status": "completed"
    },
    "tags": []
   },
   "outputs": [
    {
     "name": "stdout",
     "output_type": "stream",
     "text": [
      "Epoch 1/30\n",
      "200/200 [==============================] - 100s 502ms/step - loss: 5.0486 - val_loss: 4.0470\n",
      "Epoch 2/30\n",
      "200/200 [==============================] - 81s 407ms/step - loss: 4.6564 - val_loss: 4.4053\n",
      "Epoch 3/30\n",
      "200/200 [==============================] - 71s 357ms/step - loss: 4.4362 - val_loss: 4.5535\n",
      "Epoch 4/30\n",
      "200/200 [==============================] - 70s 349ms/step - loss: 4.3517 - val_loss: 4.2065\n",
      "Epoch 5/30\n",
      "200/200 [==============================] - 68s 341ms/step - loss: 4.3350 - val_loss: 4.4743\n",
      "Epoch 6/30\n",
      "200/200 [==============================] - 64s 321ms/step - loss: 4.3761 - val_loss: 4.5938\n"
     ]
    },
    {
     "data": {
      "text/plain": [
       "<tensorflow.python.keras.callbacks.History at 0x7f550a16ef50>"
      ]
     },
     "execution_count": 26,
     "metadata": {},
     "output_type": "execute_result"
    }
   ],
   "source": [
    "model.fit_generator(IGenerator(keys=tr_p, \n",
    "                               a = A, \n",
    "                               tab = TAB), \n",
    "                    steps_per_epoch = 200,\n",
    "                    validation_data=IGenerator(keys=vl_p, \n",
    "                               a = A, \n",
    "                               tab = TAB),\n",
    "                    validation_steps = 20, \n",
    "                    callbacks = [er], \n",
    "                    epochs=30)"
   ]
  },
  {
   "cell_type": "code",
   "execution_count": 27,
   "metadata": {
    "execution": {
     "iopub.execute_input": "2021-12-01T11:38:47.899775Z",
     "iopub.status.busy": "2021-12-01T11:38:47.898995Z",
     "iopub.status.idle": "2021-12-01T11:38:47.902231Z",
     "shell.execute_reply": "2021-12-01T11:38:47.901792Z",
     "shell.execute_reply.started": "2021-11-29T08:28:26.630163Z"
    },
    "papermill": {
     "duration": 0.383793,
     "end_time": "2021-12-01T11:38:47.902323",
     "exception": false,
     "start_time": "2021-12-01T11:38:47.518530",
     "status": "completed"
    },
    "tags": []
   },
   "outputs": [],
   "source": [
    "def score(fvc_true, fvc_pred, sigma):\n",
    "    sigma_clip = np.maximum(sigma, 70)\n",
    "    delta = np.abs(fvc_true - fvc_pred)\n",
    "    delta = np.minimum(delta, 1000)\n",
    "    sq2 = np.sqrt(2)\n",
    "    metric = (delta / sigma_clip)*sq2 + np.log(sigma_clip* sq2)\n",
    "    return np.mean(metric)"
   ]
  },
  {
   "cell_type": "code",
   "execution_count": 28,
   "metadata": {
    "execution": {
     "iopub.execute_input": "2021-12-01T11:38:48.663302Z",
     "iopub.status.busy": "2021-12-01T11:38:48.662403Z",
     "iopub.status.idle": "2021-12-01T11:53:05.255421Z",
     "shell.execute_reply": "2021-12-01T11:53:05.252228Z",
     "shell.execute_reply.started": "2021-11-29T08:28:26.642826Z"
    },
    "papermill": {
     "duration": 856.979902,
     "end_time": "2021-12-01T11:53:05.255578",
     "exception": false,
     "start_time": "2021-12-01T11:38:48.275676",
     "status": "completed"
    },
    "tags": []
   },
   "outputs": [
    {
     "data": {
      "application/vnd.jupyter.widget-view+json": {
       "model_id": "49dc4aa1e87442179cff81deabc5133a",
       "version_major": 2,
       "version_minor": 0
      },
      "text/plain": [
       "HBox(children=(FloatProgress(value=0.0, max=9.0), HTML(value='')))"
      ]
     },
     "metadata": {},
     "output_type": "display_data"
    },
    {
     "name": "stdout",
     "output_type": "stream",
     "text": [
      "6.704066890350748\n",
      "6.704134255832129\n",
      "6.704288822252905\n",
      "6.704470595891954\n",
      "6.704635247930737\n",
      "6.70468181042047\n",
      "6.705507445898948\n",
      "6.706140805154046\n",
      "6.706490976080671\n",
      "\n"
     ]
    }
   ],
   "source": [
    "from tqdm.notebook import tqdm\n",
    "\n",
    "metric = []\n",
    "for q in tqdm(range(1, 10)):\n",
    "    m = []\n",
    "    for p in vl_p:\n",
    "        x = [] \n",
    "        tab = [] \n",
    "        \n",
    "        if p in ['ID00011637202177653955184', 'ID00052637202186188008618']:\n",
    "            continue\n",
    "        for i in os.listdir(f'../input/osic-pulmonary-fibrosis-progression/train/{p}/'):\n",
    "            x.append(get_img(f'../input/osic-pulmonary-fibrosis-progression/train/{p}/{i}')) \n",
    "            tab.append(get_tab(train.loc[train.Patient == p, :])) \n",
    "        tab = np.array(tab) \n",
    "    \n",
    "        x = np.expand_dims(x, axis=-1) \n",
    "        _a = model.predict([x, tab]) \n",
    "        a = np.quantile(_a, q / 10)\n",
    "        \n",
    "        percent_true = train.Percent.values[train.Patient == p]\n",
    "        fvc_true = train.FVC.values[train.Patient == p]\n",
    "        weeks_true = train.Weeks.values[train.Patient == p]\n",
    "        \n",
    "        fvc = a * (weeks_true - weeks_true[0]) + fvc_true[0]\n",
    "        percent = percent_true[0] - a * abs(weeks_true - weeks_true[0])\n",
    "        m.append(score(fvc_true, fvc, percent))\n",
    "    print(np.mean(m))\n",
    "    metric.append(np.mean(m))"
   ]
  },
  {
   "cell_type": "markdown",
   "metadata": {
    "papermill": {
     "duration": 0.378119,
     "end_time": "2021-12-01T11:53:06.010686",
     "exception": false,
     "start_time": "2021-12-01T11:53:05.632567",
     "status": "completed"
    },
    "tags": []
   },
   "source": [
    "## Predict"
   ]
  },
  {
   "cell_type": "code",
   "execution_count": 29,
   "metadata": {
    "execution": {
     "iopub.execute_input": "2021-12-01T11:53:06.771809Z",
     "iopub.status.busy": "2021-12-01T11:53:06.770963Z",
     "iopub.status.idle": "2021-12-01T11:53:06.776991Z",
     "shell.execute_reply": "2021-12-01T11:53:06.777403Z",
     "shell.execute_reply.started": "2021-11-29T08:39:41.304775Z"
    },
    "papermill": {
     "duration": 0.391675,
     "end_time": "2021-12-01T11:53:06.777560",
     "exception": false,
     "start_time": "2021-12-01T11:53:06.385885",
     "status": "completed"
    },
    "tags": []
   },
   "outputs": [
    {
     "data": {
      "text/plain": [
       "0.1"
      ]
     },
     "execution_count": 29,
     "metadata": {},
     "output_type": "execute_result"
    }
   ],
   "source": [
    "q = (np.argmin(metric) + 1)/ 10\n",
    "q"
   ]
  },
  {
   "cell_type": "code",
   "execution_count": 30,
   "metadata": {
    "execution": {
     "iopub.execute_input": "2021-12-01T11:53:07.548062Z",
     "iopub.status.busy": "2021-12-01T11:53:07.547419Z",
     "iopub.status.idle": "2021-12-01T11:53:07.585462Z",
     "shell.execute_reply": "2021-12-01T11:53:07.585033Z",
     "shell.execute_reply.started": "2021-11-29T08:39:41.324747Z"
    },
    "papermill": {
     "duration": 0.431988,
     "end_time": "2021-12-01T11:53:07.585601",
     "exception": false,
     "start_time": "2021-12-01T11:53:07.153613",
     "status": "completed"
    },
    "tags": []
   },
   "outputs": [
    {
     "data": {
      "text/html": [
       "<div>\n",
       "<style scoped>\n",
       "    .dataframe tbody tr th:only-of-type {\n",
       "        vertical-align: middle;\n",
       "    }\n",
       "\n",
       "    .dataframe tbody tr th {\n",
       "        vertical-align: top;\n",
       "    }\n",
       "\n",
       "    .dataframe thead th {\n",
       "        text-align: right;\n",
       "    }\n",
       "</style>\n",
       "<table border=\"1\" class=\"dataframe\">\n",
       "  <thead>\n",
       "    <tr style=\"text-align: right;\">\n",
       "      <th></th>\n",
       "      <th>Patient_Week</th>\n",
       "      <th>FVC</th>\n",
       "      <th>Confidence</th>\n",
       "    </tr>\n",
       "  </thead>\n",
       "  <tbody>\n",
       "    <tr>\n",
       "      <th>0</th>\n",
       "      <td>ID00419637202311204720264_-12</td>\n",
       "      <td>2000</td>\n",
       "      <td>100</td>\n",
       "    </tr>\n",
       "    <tr>\n",
       "      <th>1</th>\n",
       "      <td>ID00421637202311550012437_-12</td>\n",
       "      <td>2000</td>\n",
       "      <td>100</td>\n",
       "    </tr>\n",
       "    <tr>\n",
       "      <th>2</th>\n",
       "      <td>ID00422637202311677017371_-12</td>\n",
       "      <td>2000</td>\n",
       "      <td>100</td>\n",
       "    </tr>\n",
       "    <tr>\n",
       "      <th>3</th>\n",
       "      <td>ID00423637202312137826377_-12</td>\n",
       "      <td>2000</td>\n",
       "      <td>100</td>\n",
       "    </tr>\n",
       "    <tr>\n",
       "      <th>4</th>\n",
       "      <td>ID00426637202313170790466_-12</td>\n",
       "      <td>2000</td>\n",
       "      <td>100</td>\n",
       "    </tr>\n",
       "  </tbody>\n",
       "</table>\n",
       "</div>"
      ],
      "text/plain": [
       "                    Patient_Week   FVC  Confidence\n",
       "0  ID00419637202311204720264_-12  2000         100\n",
       "1  ID00421637202311550012437_-12  2000         100\n",
       "2  ID00422637202311677017371_-12  2000         100\n",
       "3  ID00423637202312137826377_-12  2000         100\n",
       "4  ID00426637202313170790466_-12  2000         100"
      ]
     },
     "execution_count": 30,
     "metadata": {},
     "output_type": "execute_result"
    }
   ],
   "source": [
    "sub = pd.read_csv('../input/osic-pulmonary-fibrosis-progression/sample_submission.csv') \n",
    "sub.head() "
   ]
  },
  {
   "cell_type": "code",
   "execution_count": 31,
   "metadata": {
    "execution": {
     "iopub.execute_input": "2021-12-01T11:53:08.351061Z",
     "iopub.status.busy": "2021-12-01T11:53:08.350452Z",
     "iopub.status.idle": "2021-12-01T11:53:08.372258Z",
     "shell.execute_reply": "2021-12-01T11:53:08.372765Z",
     "shell.execute_reply.started": "2021-11-29T08:39:41.380324Z"
    },
    "papermill": {
     "duration": 0.409202,
     "end_time": "2021-12-01T11:53:08.372899",
     "exception": false,
     "start_time": "2021-12-01T11:53:07.963697",
     "status": "completed"
    },
    "tags": []
   },
   "outputs": [
    {
     "data": {
      "text/html": [
       "<div>\n",
       "<style scoped>\n",
       "    .dataframe tbody tr th:only-of-type {\n",
       "        vertical-align: middle;\n",
       "    }\n",
       "\n",
       "    .dataframe tbody tr th {\n",
       "        vertical-align: top;\n",
       "    }\n",
       "\n",
       "    .dataframe thead th {\n",
       "        text-align: right;\n",
       "    }\n",
       "</style>\n",
       "<table border=\"1\" class=\"dataframe\">\n",
       "  <thead>\n",
       "    <tr style=\"text-align: right;\">\n",
       "      <th></th>\n",
       "      <th>Patient</th>\n",
       "      <th>Weeks</th>\n",
       "      <th>FVC</th>\n",
       "      <th>Percent</th>\n",
       "      <th>Age</th>\n",
       "      <th>Sex</th>\n",
       "      <th>SmokingStatus</th>\n",
       "    </tr>\n",
       "  </thead>\n",
       "  <tbody>\n",
       "    <tr>\n",
       "      <th>0</th>\n",
       "      <td>ID00419637202311204720264</td>\n",
       "      <td>6</td>\n",
       "      <td>3020</td>\n",
       "      <td>70.186855</td>\n",
       "      <td>73</td>\n",
       "      <td>Male</td>\n",
       "      <td>Ex-smoker</td>\n",
       "    </tr>\n",
       "    <tr>\n",
       "      <th>1</th>\n",
       "      <td>ID00421637202311550012437</td>\n",
       "      <td>15</td>\n",
       "      <td>2739</td>\n",
       "      <td>82.045291</td>\n",
       "      <td>68</td>\n",
       "      <td>Male</td>\n",
       "      <td>Ex-smoker</td>\n",
       "    </tr>\n",
       "    <tr>\n",
       "      <th>2</th>\n",
       "      <td>ID00422637202311677017371</td>\n",
       "      <td>6</td>\n",
       "      <td>1930</td>\n",
       "      <td>76.672493</td>\n",
       "      <td>73</td>\n",
       "      <td>Male</td>\n",
       "      <td>Ex-smoker</td>\n",
       "    </tr>\n",
       "    <tr>\n",
       "      <th>3</th>\n",
       "      <td>ID00423637202312137826377</td>\n",
       "      <td>17</td>\n",
       "      <td>3294</td>\n",
       "      <td>79.258903</td>\n",
       "      <td>72</td>\n",
       "      <td>Male</td>\n",
       "      <td>Ex-smoker</td>\n",
       "    </tr>\n",
       "    <tr>\n",
       "      <th>4</th>\n",
       "      <td>ID00426637202313170790466</td>\n",
       "      <td>0</td>\n",
       "      <td>2925</td>\n",
       "      <td>71.824968</td>\n",
       "      <td>73</td>\n",
       "      <td>Male</td>\n",
       "      <td>Never smoked</td>\n",
       "    </tr>\n",
       "  </tbody>\n",
       "</table>\n",
       "</div>"
      ],
      "text/plain": [
       "                     Patient  Weeks   FVC    Percent  Age   Sex SmokingStatus\n",
       "0  ID00419637202311204720264      6  3020  70.186855   73  Male     Ex-smoker\n",
       "1  ID00421637202311550012437     15  2739  82.045291   68  Male     Ex-smoker\n",
       "2  ID00422637202311677017371      6  1930  76.672493   73  Male     Ex-smoker\n",
       "3  ID00423637202312137826377     17  3294  79.258903   72  Male     Ex-smoker\n",
       "4  ID00426637202313170790466      0  2925  71.824968   73  Male  Never smoked"
      ]
     },
     "execution_count": 31,
     "metadata": {},
     "output_type": "execute_result"
    }
   ],
   "source": [
    "test = pd.read_csv('../input/osic-pulmonary-fibrosis-progression/test.csv') \n",
    "test.head()"
   ]
  },
  {
   "cell_type": "code",
   "execution_count": 32,
   "metadata": {
    "execution": {
     "iopub.execute_input": "2021-12-01T11:53:09.156823Z",
     "iopub.status.busy": "2021-12-01T11:53:09.156268Z",
     "iopub.status.idle": "2021-12-01T11:53:32.640669Z",
     "shell.execute_reply": "2021-12-01T11:53:32.640129Z",
     "shell.execute_reply.started": "2021-11-29T08:39:41.418218Z"
    },
    "papermill": {
     "duration": 23.874701,
     "end_time": "2021-12-01T11:53:32.640786",
     "exception": false,
     "start_time": "2021-12-01T11:53:08.766085",
     "status": "completed"
    },
    "tags": []
   },
   "outputs": [],
   "source": [
    "A_test, B_test, P_test,W, FVC= {}, {}, {},{},{} \n",
    "STD, WEEK = {}, {} \n",
    "for p in test.Patient.unique():\n",
    "    x = [] \n",
    "    tab = [] \n",
    "    for i in os.listdir(f'../input/osic-pulmonary-fibrosis-progression/test/{p}/'):\n",
    "        x.append(get_img(f'../input/osic-pulmonary-fibrosis-progression/test/{p}/{i}')) \n",
    "        tab.append(get_tab(test.loc[test.Patient == p, :])) \n",
    "    tab = np.array(tab) \n",
    "            \n",
    "    x = np.expand_dims(x, axis=-1) \n",
    "    _a = model.predict([x, tab]) \n",
    "    a = np.quantile(_a, q)\n",
    "    A_test[p] = a\n",
    "    B_test[p] = test.FVC.values[test.Patient == p] - a*test.Weeks.values[test.Patient == p]\n",
    "    P_test[p] = test.Percent.values[test.Patient == p] \n",
    "    WEEK[p] = test.Weeks.values[test.Patient == p]"
   ]
  },
  {
   "cell_type": "code",
   "execution_count": 33,
   "metadata": {
    "execution": {
     "iopub.execute_input": "2021-12-01T11:53:33.413595Z",
     "iopub.status.busy": "2021-12-01T11:53:33.412699Z",
     "iopub.status.idle": "2021-12-01T11:53:35.472094Z",
     "shell.execute_reply": "2021-12-01T11:53:35.471302Z",
     "shell.execute_reply.started": "2021-11-29T08:40:11.003503Z"
    },
    "papermill": {
     "duration": 2.453762,
     "end_time": "2021-12-01T11:53:35.472207",
     "exception": false,
     "start_time": "2021-12-01T11:53:33.018445",
     "status": "completed"
    },
    "tags": []
   },
   "outputs": [],
   "source": [
    "for k in sub.Patient_Week.values:\n",
    "    p, w = k.split('_')\n",
    "    w = int(w) \n",
    "    \n",
    "    fvc = A_test[p] * w + B_test[p]\n",
    "    sub.loc[sub.Patient_Week == k, 'FVC'] = fvc\n",
    "    sub.loc[sub.Patient_Week == k, 'Confidence'] = (\n",
    "        P_test[p] - A_test[p] * abs(WEEK[p] - w) \n",
    ") \n",
    "    "
   ]
  },
  {
   "cell_type": "code",
   "execution_count": 34,
   "metadata": {
    "execution": {
     "iopub.execute_input": "2021-12-01T11:53:36.486559Z",
     "iopub.status.busy": "2021-12-01T11:53:36.485861Z",
     "iopub.status.idle": "2021-12-01T11:53:36.490210Z",
     "shell.execute_reply": "2021-12-01T11:53:36.489765Z",
     "shell.execute_reply.started": "2021-11-29T08:40:14.077482Z"
    },
    "papermill": {
     "duration": 0.629542,
     "end_time": "2021-12-01T11:53:36.490303",
     "exception": false,
     "start_time": "2021-12-01T11:53:35.860761",
     "status": "completed"
    },
    "tags": []
   },
   "outputs": [
    {
     "data": {
      "text/html": [
       "<div>\n",
       "<style scoped>\n",
       "    .dataframe tbody tr th:only-of-type {\n",
       "        vertical-align: middle;\n",
       "    }\n",
       "\n",
       "    .dataframe tbody tr th {\n",
       "        vertical-align: top;\n",
       "    }\n",
       "\n",
       "    .dataframe thead th {\n",
       "        text-align: right;\n",
       "    }\n",
       "</style>\n",
       "<table border=\"1\" class=\"dataframe\">\n",
       "  <thead>\n",
       "    <tr style=\"text-align: right;\">\n",
       "      <th></th>\n",
       "      <th>Patient_Week</th>\n",
       "      <th>FVC</th>\n",
       "      <th>Confidence</th>\n",
       "    </tr>\n",
       "  </thead>\n",
       "  <tbody>\n",
       "    <tr>\n",
       "      <th>0</th>\n",
       "      <td>ID00419637202311204720264_-12</td>\n",
       "      <td>3084.275334</td>\n",
       "      <td>134.462189</td>\n",
       "    </tr>\n",
       "    <tr>\n",
       "      <th>1</th>\n",
       "      <td>ID00421637202311550012437_-12</td>\n",
       "      <td>2831.912261</td>\n",
       "      <td>174.957553</td>\n",
       "    </tr>\n",
       "    <tr>\n",
       "      <th>2</th>\n",
       "      <td>ID00422637202311677017371_-12</td>\n",
       "      <td>1992.817006</td>\n",
       "      <td>139.489500</td>\n",
       "    </tr>\n",
       "    <tr>\n",
       "      <th>3</th>\n",
       "      <td>ID00423637202312137826377_-12</td>\n",
       "      <td>3394.098544</td>\n",
       "      <td>179.357447</td>\n",
       "    </tr>\n",
       "    <tr>\n",
       "      <th>4</th>\n",
       "      <td>ID00426637202313170790466_-12</td>\n",
       "      <td>2963.095687</td>\n",
       "      <td>109.920655</td>\n",
       "    </tr>\n",
       "  </tbody>\n",
       "</table>\n",
       "</div>"
      ],
      "text/plain": [
       "                    Patient_Week          FVC  Confidence\n",
       "0  ID00419637202311204720264_-12  3084.275334  134.462189\n",
       "1  ID00421637202311550012437_-12  2831.912261  174.957553\n",
       "2  ID00422637202311677017371_-12  1992.817006  139.489500\n",
       "3  ID00423637202312137826377_-12  3394.098544  179.357447\n",
       "4  ID00426637202313170790466_-12  2963.095687  109.920655"
      ]
     },
     "execution_count": 34,
     "metadata": {},
     "output_type": "execute_result"
    }
   ],
   "source": [
    "sub.head()"
   ]
  },
  {
   "cell_type": "code",
   "execution_count": 35,
   "metadata": {
    "execution": {
     "iopub.execute_input": "2021-12-01T11:53:37.274573Z",
     "iopub.status.busy": "2021-12-01T11:53:37.273947Z",
     "iopub.status.idle": "2021-12-01T11:53:37.657302Z",
     "shell.execute_reply": "2021-12-01T11:53:37.656308Z",
     "shell.execute_reply.started": "2021-11-29T08:40:14.101185Z"
    },
    "papermill": {
     "duration": 0.770281,
     "end_time": "2021-12-01T11:53:37.657415",
     "exception": false,
     "start_time": "2021-12-01T11:53:36.887134",
     "status": "completed"
    },
    "tags": []
   },
   "outputs": [],
   "source": [
    "sub[[\"Patient_Week\",\"FVC\",\"Confidence\"]].to_csv(\"submission.csv\", index=False)"
   ]
  },
  {
   "cell_type": "code",
   "execution_count": 36,
   "metadata": {
    "execution": {
     "iopub.execute_input": "2021-12-01T11:53:38.419973Z",
     "iopub.status.busy": "2021-12-01T11:53:38.419238Z",
     "iopub.status.idle": "2021-12-01T11:53:38.423230Z",
     "shell.execute_reply": "2021-12-01T11:53:38.422803Z"
    },
    "papermill": {
     "duration": 0.38712,
     "end_time": "2021-12-01T11:53:38.423330",
     "exception": false,
     "start_time": "2021-12-01T11:53:38.036210",
     "status": "completed"
    },
    "tags": []
   },
   "outputs": [],
   "source": [
    "img_sub = sub[[\"Patient_Week\",\"FVC\",\"Confidence\"]].copy()"
   ]
  },
  {
   "cell_type": "code",
   "execution_count": 37,
   "metadata": {
    "execution": {
     "iopub.execute_input": "2021-12-01T11:53:39.195183Z",
     "iopub.status.busy": "2021-12-01T11:53:39.194628Z",
     "iopub.status.idle": "2021-12-01T11:53:39.242090Z",
     "shell.execute_reply": "2021-12-01T11:53:39.241370Z"
    },
    "papermill": {
     "duration": 0.441181,
     "end_time": "2021-12-01T11:53:39.242230",
     "exception": false,
     "start_time": "2021-12-01T11:53:38.801049",
     "status": "completed"
    },
    "tags": []
   },
   "outputs": [
    {
     "name": "stdout",
     "output_type": "stream",
     "text": [
      "add infos\n"
     ]
    }
   ],
   "source": [
    "ROOT = \"../input/osic-pulmonary-fibrosis-progression\"\n",
    "BATCH_SIZE=128\n",
    "\n",
    "tr = pd.read_csv(f\"{ROOT}/train.csv\")\n",
    "tr.drop_duplicates(keep=False, inplace=True, subset=['Patient','Weeks'])\n",
    "chunk = pd.read_csv(f\"{ROOT}/test.csv\")\n",
    "\n",
    "print(\"add infos\")\n",
    "sub = pd.read_csv(f\"{ROOT}/sample_submission.csv\")\n",
    "sub['Patient'] = sub['Patient_Week'].apply(lambda x:x.split('_')[0])\n",
    "sub['Weeks'] = sub['Patient_Week'].apply(lambda x: int(x.split('_')[-1]))\n",
    "sub =  sub[['Patient','Weeks','Confidence','Patient_Week']]\n",
    "sub = sub.merge(chunk.drop('Weeks', axis=1), on=\"Patient\")"
   ]
  },
  {
   "cell_type": "code",
   "execution_count": 38,
   "metadata": {
    "execution": {
     "iopub.execute_input": "2021-12-01T11:53:40.040759Z",
     "iopub.status.busy": "2021-12-01T11:53:40.039900Z",
     "iopub.status.idle": "2021-12-01T11:53:40.047623Z",
     "shell.execute_reply": "2021-12-01T11:53:40.047050Z"
    },
    "papermill": {
     "duration": 0.426889,
     "end_time": "2021-12-01T11:53:40.047727",
     "exception": false,
     "start_time": "2021-12-01T11:53:39.620838",
     "status": "completed"
    },
    "tags": []
   },
   "outputs": [],
   "source": [
    "tr['WHERE'] = 'train'\n",
    "chunk['WHERE'] = 'val'\n",
    "sub['WHERE'] = 'test'\n",
    "data = tr.append([chunk, sub])"
   ]
  },
  {
   "cell_type": "code",
   "execution_count": 39,
   "metadata": {
    "execution": {
     "iopub.execute_input": "2021-12-01T11:53:40.833707Z",
     "iopub.status.busy": "2021-12-01T11:53:40.832844Z",
     "iopub.status.idle": "2021-12-01T11:53:40.840636Z",
     "shell.execute_reply": "2021-12-01T11:53:40.839997Z"
    },
    "papermill": {
     "duration": 0.410208,
     "end_time": "2021-12-01T11:53:40.840768",
     "exception": false,
     "start_time": "2021-12-01T11:53:40.430560",
     "status": "completed"
    },
    "tags": []
   },
   "outputs": [
    {
     "name": "stdout",
     "output_type": "stream",
     "text": [
      "(1535, 8) (5, 8) (730, 10) (2270, 10)\n",
      "176 5 5 176\n"
     ]
    }
   ],
   "source": [
    "print(tr.shape, chunk.shape, sub.shape, data.shape)\n",
    "print(tr.Patient.nunique(), chunk.Patient.nunique(), sub.Patient.nunique(), \n",
    "      data.Patient.nunique())"
   ]
  },
  {
   "cell_type": "code",
   "execution_count": 40,
   "metadata": {
    "execution": {
     "iopub.execute_input": "2021-12-01T11:53:41.622495Z",
     "iopub.status.busy": "2021-12-01T11:53:41.621464Z",
     "iopub.status.idle": "2021-12-01T11:53:41.637417Z",
     "shell.execute_reply": "2021-12-01T11:53:41.636986Z"
    },
    "papermill": {
     "duration": 0.407459,
     "end_time": "2021-12-01T11:53:41.637545",
     "exception": false,
     "start_time": "2021-12-01T11:53:41.230086",
     "status": "completed"
    },
    "tags": []
   },
   "outputs": [],
   "source": [
    "data['min_week'] = data['Weeks']\n",
    "data.loc[data.WHERE=='test','min_week'] = np.nan\n",
    "data['min_week'] = data.groupby('Patient')['min_week'].transform('min')"
   ]
  },
  {
   "cell_type": "code",
   "execution_count": 41,
   "metadata": {
    "execution": {
     "iopub.execute_input": "2021-12-01T11:53:42.731002Z",
     "iopub.status.busy": "2021-12-01T11:53:42.730196Z",
     "iopub.status.idle": "2021-12-01T11:53:42.846950Z",
     "shell.execute_reply": "2021-12-01T11:53:42.848081Z"
    },
    "papermill": {
     "duration": 0.749647,
     "end_time": "2021-12-01T11:53:42.848265",
     "exception": false,
     "start_time": "2021-12-01T11:53:42.098618",
     "status": "completed"
    },
    "tags": []
   },
   "outputs": [],
   "source": [
    "base = data.loc[data.Weeks == data.min_week]\n",
    "base = base[['Patient','FVC']].copy()\n",
    "base.columns = ['Patient','min_FVC']\n",
    "base['nb'] = 1\n",
    "base['nb'] = base.groupby('Patient')['nb'].transform('cumsum')\n",
    "base = base[base.nb==1]\n",
    "base.drop('nb', axis=1, inplace=True)"
   ]
  },
  {
   "cell_type": "code",
   "execution_count": 42,
   "metadata": {
    "execution": {
     "iopub.execute_input": "2021-12-01T11:53:43.726931Z",
     "iopub.status.busy": "2021-12-01T11:53:43.724916Z",
     "iopub.status.idle": "2021-12-01T11:53:43.752903Z",
     "shell.execute_reply": "2021-12-01T11:53:43.752136Z"
    },
    "papermill": {
     "duration": 0.418945,
     "end_time": "2021-12-01T11:53:43.753023",
     "exception": false,
     "start_time": "2021-12-01T11:53:43.334078",
     "status": "completed"
    },
    "tags": []
   },
   "outputs": [],
   "source": [
    "data = data.merge(base, on='Patient', how='left')\n",
    "data['base_week'] = data['Weeks'] - data['min_week']\n",
    "del base"
   ]
  },
  {
   "cell_type": "code",
   "execution_count": 43,
   "metadata": {
    "execution": {
     "iopub.execute_input": "2021-12-01T11:53:44.527364Z",
     "iopub.status.busy": "2021-12-01T11:53:44.526471Z",
     "iopub.status.idle": "2021-12-01T11:53:44.535277Z",
     "shell.execute_reply": "2021-12-01T11:53:44.534830Z"
    },
    "papermill": {
     "duration": 0.397264,
     "end_time": "2021-12-01T11:53:44.535382",
     "exception": false,
     "start_time": "2021-12-01T11:53:44.138118",
     "status": "completed"
    },
    "tags": []
   },
   "outputs": [],
   "source": [
    "COLS = ['Sex','SmokingStatus'] #,'Age'\n",
    "FE = []\n",
    "for col in COLS:\n",
    "    for mod in data[col].unique():\n",
    "        FE.append(mod)\n",
    "        data[mod] = (data[col] == mod).astype(int)"
   ]
  },
  {
   "cell_type": "code",
   "execution_count": 44,
   "metadata": {
    "execution": {
     "iopub.execute_input": "2021-12-01T11:53:45.317958Z",
     "iopub.status.busy": "2021-12-01T11:53:45.317115Z",
     "iopub.status.idle": "2021-12-01T11:53:45.320081Z",
     "shell.execute_reply": "2021-12-01T11:53:45.319596Z"
    },
    "papermill": {
     "duration": 0.402757,
     "end_time": "2021-12-01T11:53:45.320208",
     "exception": false,
     "start_time": "2021-12-01T11:53:44.917451",
     "status": "completed"
    },
    "tags": []
   },
   "outputs": [],
   "source": [
    "data['age'] = (data['Age'] - data['Age'].min() ) / ( data['Age'].max() - data['Age'].min() )\n",
    "data['BASE'] = (data['min_FVC'] - data['min_FVC'].min() ) / ( data['min_FVC'].max() - data['min_FVC'].min() )\n",
    "data['week'] = (data['base_week'] - data['base_week'].min() ) / ( data['base_week'].max() - data['base_week'].min() )\n",
    "#data['percent'] = (data['Percent'] - data['Percent'].min() ) / ( data['Percent'].max() - data['Percent'].min() )\n",
    "FE += ['age','week','BASE']"
   ]
  },
  {
   "cell_type": "code",
   "execution_count": 45,
   "metadata": {
    "execution": {
     "iopub.execute_input": "2021-12-01T11:53:46.103971Z",
     "iopub.status.busy": "2021-12-01T11:53:46.103036Z",
     "iopub.status.idle": "2021-12-01T11:53:46.110412Z",
     "shell.execute_reply": "2021-12-01T11:53:46.109885Z"
    },
    "papermill": {
     "duration": 0.405089,
     "end_time": "2021-12-01T11:53:46.110542",
     "exception": false,
     "start_time": "2021-12-01T11:53:45.705453",
     "status": "completed"
    },
    "tags": []
   },
   "outputs": [],
   "source": [
    "tr = data.loc[data.WHERE=='train']\n",
    "chunk = data.loc[data.WHERE=='val']\n",
    "sub = data.loc[data.WHERE=='test']\n",
    "del data"
   ]
  },
  {
   "cell_type": "code",
   "execution_count": 46,
   "metadata": {
    "execution": {
     "iopub.execute_input": "2021-12-01T11:53:46.927284Z",
     "iopub.status.busy": "2021-12-01T11:53:46.926347Z",
     "iopub.status.idle": "2021-12-01T11:53:46.940373Z",
     "shell.execute_reply": "2021-12-01T11:53:46.943591Z"
    },
    "papermill": {
     "duration": 0.449831,
     "end_time": "2021-12-01T11:53:46.943989",
     "exception": false,
     "start_time": "2021-12-01T11:53:46.494158",
     "status": "completed"
    },
    "tags": []
   },
   "outputs": [
    {
     "data": {
      "text/plain": [
       "((1535, 21), (5, 21), (730, 21))"
      ]
     },
     "execution_count": 46,
     "metadata": {},
     "output_type": "execute_result"
    }
   ],
   "source": [
    "tr.shape, chunk.shape, sub.shape"
   ]
  },
  {
   "cell_type": "code",
   "execution_count": 47,
   "metadata": {
    "execution": {
     "iopub.execute_input": "2021-12-01T11:53:47.971143Z",
     "iopub.status.busy": "2021-12-01T11:53:47.970239Z",
     "iopub.status.idle": "2021-12-01T11:53:47.972119Z",
     "shell.execute_reply": "2021-12-01T11:53:47.972629Z"
    },
    "papermill": {
     "duration": 0.393364,
     "end_time": "2021-12-01T11:53:47.972749",
     "exception": false,
     "start_time": "2021-12-01T11:53:47.579385",
     "status": "completed"
    },
    "tags": []
   },
   "outputs": [],
   "source": [
    "from tensorflow.keras import Model\n",
    "from tensorflow.keras.optimizers import Nadam\n",
    "\n",
    "from keras import backend as K"
   ]
  },
  {
   "cell_type": "code",
   "execution_count": 48,
   "metadata": {
    "execution": {
     "iopub.execute_input": "2021-12-01T11:53:48.750564Z",
     "iopub.status.busy": "2021-12-01T11:53:48.749765Z",
     "iopub.status.idle": "2021-12-01T11:53:48.752480Z",
     "shell.execute_reply": "2021-12-01T11:53:48.752057Z"
    },
    "papermill": {
     "duration": 0.393482,
     "end_time": "2021-12-01T11:53:48.752605",
     "exception": false,
     "start_time": "2021-12-01T11:53:48.359123",
     "status": "completed"
    },
    "tags": []
   },
   "outputs": [],
   "source": [
    "from sklearn.metrics import mean_absolute_error\n",
    "from sklearn.model_selection import KFold\n",
    "\n",
    "import tensorflow as tf\n",
    "import tensorflow.keras.backend as K\n",
    "import tensorflow.keras.layers as L\n",
    "import tensorflow.keras.models as M"
   ]
  },
  {
   "cell_type": "code",
   "execution_count": 49,
   "metadata": {
    "execution": {
     "iopub.execute_input": "2021-12-01T11:53:49.543090Z",
     "iopub.status.busy": "2021-12-01T11:53:49.542058Z",
     "iopub.status.idle": "2021-12-01T11:53:49.544924Z",
     "shell.execute_reply": "2021-12-01T11:53:49.544463Z"
    },
    "papermill": {
     "duration": 0.405773,
     "end_time": "2021-12-01T11:53:49.545035",
     "exception": false,
     "start_time": "2021-12-01T11:53:49.139262",
     "status": "completed"
    },
    "tags": []
   },
   "outputs": [],
   "source": [
    "C1, C2 = tf.constant(70, dtype='float32'), tf.constant(1000, dtype=\"float32\")\n",
    "\n",
    "def score(y_true, y_pred):\n",
    "    tf.dtypes.cast(y_true, tf.float32)\n",
    "    tf.dtypes.cast(y_pred, tf.float32)\n",
    "    sigma = y_pred[:, 2] - y_pred[:, 0]\n",
    "    fvc_pred = y_pred[:, 1]\n",
    "    \n",
    "    #sigma_clip = sigma + C1\n",
    "    sigma_clip = tf.maximum(sigma, C1)\n",
    "    delta = tf.abs(y_true[:, 0] - fvc_pred)\n",
    "    delta = tf.minimum(delta, C2)\n",
    "    sq2 = tf.sqrt( tf.dtypes.cast(2, dtype=tf.float32) )\n",
    "    metric = (delta / sigma_clip)*sq2 + tf.math.log(sigma_clip* sq2)\n",
    "    return K.mean(metric)\n",
    "\n",
    "def qloss(y_true, y_pred):\n",
    "    # Pinball loss for multiple quantiles\n",
    "    qs = [0.2, 0.50, 0.8]\n",
    "    q = tf.constant(np.array([qs]), dtype=tf.float32)\n",
    "    e = y_true - y_pred\n",
    "    v = tf.maximum(q*e, (q-1)*e)\n",
    "    return K.mean(v)\n",
    "\n",
    "def mloss(_lambda):\n",
    "    def loss(y_true, y_pred):\n",
    "        return _lambda * qloss(y_true, y_pred) + (1 - _lambda)*score(y_true, y_pred)\n",
    "    return loss\n",
    "\n",
    "def make_model(nh):\n",
    "    z = L.Input((nh,), name=\"Patient\")\n",
    "    x = L.Dense(100, activation=\"relu\", name=\"d1\")(z)\n",
    "    x = L.Dense(100, activation=\"relu\", name=\"d2\")(x)\n",
    "    #x = L.Dense(100, activation=\"relu\", name=\"d3\")(x)\n",
    "    p1 = L.Dense(3, activation=\"linear\", name=\"p1\")(x)\n",
    "    p2 = L.Dense(3, activation=\"relu\", name=\"p2\")(x)\n",
    "    preds = L.Lambda(lambda x: x[0] + tf.cumsum(x[1], axis=1), \n",
    "                     name=\"preds\")([p1, p2])\n",
    "    \n",
    "    model = M.Model(z, preds, name=\"CNN\")\n",
    "    #model.compile(loss=qloss, optimizer=\"adam\", metrics=[score])\n",
    "    model.compile(loss=mloss(0.8), optimizer=tf.keras.optimizers.Adam(lr=0.1, beta_1=0.9, beta_2=0.999, epsilon=None, decay=0.01, amsgrad=False), metrics=[score])\n",
    "    return model"
   ]
  },
  {
   "cell_type": "code",
   "execution_count": 50,
   "metadata": {
    "execution": {
     "iopub.execute_input": "2021-12-01T11:53:50.337013Z",
     "iopub.status.busy": "2021-12-01T11:53:50.335169Z",
     "iopub.status.idle": "2021-12-01T11:53:50.340060Z",
     "shell.execute_reply": "2021-12-01T11:53:50.339587Z"
    },
    "papermill": {
     "duration": 0.401059,
     "end_time": "2021-12-01T11:53:50.340156",
     "exception": false,
     "start_time": "2021-12-01T11:53:49.939097",
     "status": "completed"
    },
    "tags": []
   },
   "outputs": [],
   "source": [
    "y = tr['FVC'].values\n",
    "z = tr[FE].values\n",
    "ze = sub[FE].values\n",
    "nh = z.shape[1]\n",
    "pe = np.zeros((ze.shape[0], 3))\n",
    "pred = np.zeros((z.shape[0], 3))"
   ]
  },
  {
   "cell_type": "code",
   "execution_count": 51,
   "metadata": {
    "execution": {
     "iopub.execute_input": "2021-12-01T11:53:51.130947Z",
     "iopub.status.busy": "2021-12-01T11:53:51.130084Z",
     "iopub.status.idle": "2021-12-01T11:53:51.331149Z",
     "shell.execute_reply": "2021-12-01T11:53:51.330500Z"
    },
    "papermill": {
     "duration": 0.606923,
     "end_time": "2021-12-01T11:53:51.331291",
     "exception": false,
     "start_time": "2021-12-01T11:53:50.724368",
     "status": "completed"
    },
    "tags": []
   },
   "outputs": [
    {
     "name": "stdout",
     "output_type": "stream",
     "text": [
      "Model: \"CNN\"\n",
      "__________________________________________________________________________________________________\n",
      "Layer (type)                    Output Shape         Param #     Connected to                     \n",
      "==================================================================================================\n",
      "Patient (InputLayer)            [(None, 8)]          0                                            \n",
      "__________________________________________________________________________________________________\n",
      "d1 (Dense)                      (None, 100)          900         Patient[0][0]                    \n",
      "__________________________________________________________________________________________________\n",
      "d2 (Dense)                      (None, 100)          10100       d1[0][0]                         \n",
      "__________________________________________________________________________________________________\n",
      "p1 (Dense)                      (None, 3)            303         d2[0][0]                         \n",
      "__________________________________________________________________________________________________\n",
      "p2 (Dense)                      (None, 3)            303         d2[0][0]                         \n",
      "__________________________________________________________________________________________________\n",
      "preds (Lambda)                  (None, 3)            0           p1[0][0]                         \n",
      "                                                                 p2[0][0]                         \n",
      "==================================================================================================\n",
      "Total params: 11,606\n",
      "Trainable params: 11,606\n",
      "Non-trainable params: 0\n",
      "__________________________________________________________________________________________________\n",
      "None\n",
      "11606\n"
     ]
    }
   ],
   "source": [
    "net = make_model(nh)\n",
    "print(net.summary())\n",
    "print(net.count_params())"
   ]
  },
  {
   "cell_type": "code",
   "execution_count": 52,
   "metadata": {
    "execution": {
     "iopub.execute_input": "2021-12-01T11:53:52.099976Z",
     "iopub.status.busy": "2021-12-01T11:53:52.099200Z",
     "iopub.status.idle": "2021-12-01T11:53:52.101757Z",
     "shell.execute_reply": "2021-12-01T11:53:52.102190Z"
    },
    "papermill": {
     "duration": 0.389737,
     "end_time": "2021-12-01T11:53:52.102309",
     "exception": false,
     "start_time": "2021-12-01T11:53:51.712572",
     "status": "completed"
    },
    "tags": []
   },
   "outputs": [],
   "source": [
    "NFOLD = 2 # originally 5\n",
    "kf = KFold(n_splits=NFOLD)"
   ]
  },
  {
   "cell_type": "code",
   "execution_count": 53,
   "metadata": {
    "execution": {
     "iopub.execute_input": "2021-12-01T11:53:52.878477Z",
     "iopub.status.busy": "2021-12-01T11:53:52.877670Z",
     "iopub.status.idle": "2021-12-01T11:54:48.394904Z",
     "shell.execute_reply": "2021-12-01T11:54:48.395430Z"
    },
    "papermill": {
     "duration": 55.911149,
     "end_time": "2021-12-01T11:54:48.395623",
     "exception": false,
     "start_time": "2021-12-01T11:53:52.484474",
     "status": "completed"
    },
    "tags": []
   },
   "outputs": [
    {
     "name": "stdout",
     "output_type": "stream",
     "text": [
      "FOLD 1\n",
      "train [45.792118072509766, 6.618127822875977]\n",
      "val [57.64976501464844, 6.820955276489258]\n",
      "predict val...\n",
      "predict test...\n",
      "FOLD 2\n",
      "train [49.73469543457031, 6.634220600128174]\n",
      "val [49.72467803955078, 6.664309024810791]\n",
      "predict val...\n",
      "predict test...\n",
      "CPU times: user 1min, sys: 3.91 s, total: 1min 3s\n",
      "Wall time: 54.8 s\n"
     ]
    }
   ],
   "source": [
    "%%time\n",
    "cnt = 0\n",
    "EPOCHS = 600\n",
    "for tr_idx, val_idx in kf.split(z):\n",
    "    cnt += 1\n",
    "    print(f\"FOLD {cnt}\")\n",
    "    net = make_model(nh)\n",
    "    net.fit(z[tr_idx], y[tr_idx], batch_size=BATCH_SIZE, epochs=EPOCHS, \n",
    "            validation_data=(z[val_idx], y[val_idx]), verbose=0) #\n",
    "    print(\"train\", net.evaluate(z[tr_idx], y[tr_idx], verbose=0, batch_size=BATCH_SIZE))\n",
    "    print(\"val\", net.evaluate(z[val_idx], y[val_idx], verbose=0, batch_size=BATCH_SIZE))\n",
    "    print(\"predict val...\")\n",
    "    pred[val_idx] = net.predict(z[val_idx], batch_size=BATCH_SIZE, verbose=0)\n",
    "    print(\"predict test...\")\n",
    "    pe += net.predict(ze, batch_size=BATCH_SIZE, verbose=0) / NFOLD"
   ]
  },
  {
   "cell_type": "code",
   "execution_count": 54,
   "metadata": {
    "execution": {
     "iopub.execute_input": "2021-12-01T11:54:49.269919Z",
     "iopub.status.busy": "2021-12-01T11:54:49.268589Z",
     "iopub.status.idle": "2021-12-01T11:54:49.272310Z",
     "shell.execute_reply": "2021-12-01T11:54:49.270466Z"
    },
    "papermill": {
     "duration": 0.441885,
     "end_time": "2021-12-01T11:54:49.272499",
     "exception": false,
     "start_time": "2021-12-01T11:54:48.830614",
     "status": "completed"
    },
    "tags": []
   },
   "outputs": [
    {
     "name": "stdout",
     "output_type": "stream",
     "text": [
      "155.56214456465034 264.10074610011196\n"
     ]
    }
   ],
   "source": [
    "sigma_opt = mean_absolute_error(y, pred[:, 1])\n",
    "unc = pred[:,2] - pred[:, 0]\n",
    "sigma_mean = np.mean(unc)\n",
    "print(sigma_opt, sigma_mean)"
   ]
  },
  {
   "cell_type": "code",
   "execution_count": 55,
   "metadata": {
    "execution": {
     "iopub.execute_input": "2021-12-01T11:54:50.179138Z",
     "iopub.status.busy": "2021-12-01T11:54:50.178417Z",
     "iopub.status.idle": "2021-12-01T11:54:50.408622Z",
     "shell.execute_reply": "2021-12-01T11:54:50.409267Z"
    },
    "papermill": {
     "duration": 0.682385,
     "end_time": "2021-12-01T11:54:50.409410",
     "exception": false,
     "start_time": "2021-12-01T11:54:49.727025",
     "status": "completed"
    },
    "tags": []
   },
   "outputs": [
    {
     "data": {
      "image/png": "[encoded data removed]",
      "text/plain": [
       "<Figure size 432x288 with 1 Axes>"
      ]
     },
     "metadata": {
      "needs_background": "light"
     },
     "output_type": "display_data"
    }
   ],
   "source": [
    "idxs = np.random.randint(0, y.shape[0], 100)\n",
    "plt.plot(y[idxs], label=\"ground truth\")\n",
    "plt.plot(pred[idxs, 0], label=\"q25\")\n",
    "plt.plot(pred[idxs, 1], label=\"q50\")\n",
    "plt.plot(pred[idxs, 2], label=\"q75\")\n",
    "plt.legend(loc=\"best\")\n",
    "plt.show()"
   ]
  },
  {
   "cell_type": "code",
   "execution_count": 56,
   "metadata": {
    "execution": {
     "iopub.execute_input": "2021-12-01T11:54:51.227089Z",
     "iopub.status.busy": "2021-12-01T11:54:51.226373Z",
     "iopub.status.idle": "2021-12-01T11:54:51.231252Z",
     "shell.execute_reply": "2021-12-01T11:54:51.231835Z"
    },
    "papermill": {
     "duration": 0.401461,
     "end_time": "2021-12-01T11:54:51.232016",
     "exception": false,
     "start_time": "2021-12-01T11:54:50.830555",
     "status": "completed"
    },
    "tags": []
   },
   "outputs": [
    {
     "name": "stdout",
     "output_type": "stream",
     "text": [
      "21.475341796875 264.10074610011196 494.991455078125 1.0\n"
     ]
    }
   ],
   "source": [
    "print(unc.min(), unc.mean(), unc.max(), (unc>=0).mean())"
   ]
  },
  {
   "cell_type": "code",
   "execution_count": 57,
   "metadata": {
    "execution": {
     "iopub.execute_input": "2021-12-01T11:54:52.034625Z",
     "iopub.status.busy": "2021-12-01T11:54:52.033898Z",
     "iopub.status.idle": "2021-12-01T11:54:52.181358Z",
     "shell.execute_reply": "2021-12-01T11:54:52.180766Z"
    },
    "papermill": {
     "duration": 0.555948,
     "end_time": "2021-12-01T11:54:52.181520",
     "exception": false,
     "start_time": "2021-12-01T11:54:51.625572",
     "status": "completed"
    },
    "tags": []
   },
   "outputs": [
    {
     "data": {
      "image/png": "[encoded data removed]",
      "text/plain": [
       "<Figure size 432x288 with 1 Axes>"
      ]
     },
     "metadata": {
      "needs_background": "light"
     },
     "output_type": "display_data"
    }
   ],
   "source": [
    "plt.hist(unc)\n",
    "plt.title(\"uncertainty in prediction\")\n",
    "plt.show()"
   ]
  },
  {
   "cell_type": "code",
   "execution_count": 58,
   "metadata": {
    "execution": {
     "iopub.execute_input": "2021-12-01T11:54:53.095316Z",
     "iopub.status.busy": "2021-12-01T11:54:53.094473Z",
     "iopub.status.idle": "2021-12-01T11:54:53.119999Z",
     "shell.execute_reply": "2021-12-01T11:54:53.120996Z"
    },
    "papermill": {
     "duration": 0.543727,
     "end_time": "2021-12-01T11:54:53.121192",
     "exception": false,
     "start_time": "2021-12-01T11:54:52.577465",
     "status": "completed"
    },
    "tags": []
   },
   "outputs": [
    {
     "data": {
      "text/html": [
       "<div>\n",
       "<style scoped>\n",
       "    .dataframe tbody tr th:only-of-type {\n",
       "        vertical-align: middle;\n",
       "    }\n",
       "\n",
       "    .dataframe tbody tr th {\n",
       "        vertical-align: top;\n",
       "    }\n",
       "\n",
       "    .dataframe thead th {\n",
       "        text-align: right;\n",
       "    }\n",
       "</style>\n",
       "<table border=\"1\" class=\"dataframe\">\n",
       "  <thead>\n",
       "    <tr style=\"text-align: right;\">\n",
       "      <th></th>\n",
       "      <th>Patient_Week</th>\n",
       "      <th>FVC</th>\n",
       "      <th>Confidence</th>\n",
       "      <th>FVC1</th>\n",
       "      <th>Confidence1</th>\n",
       "    </tr>\n",
       "  </thead>\n",
       "  <tbody>\n",
       "    <tr>\n",
       "      <th>1540</th>\n",
       "      <td>ID00419637202311204720264_-12</td>\n",
       "      <td>3020</td>\n",
       "      <td>100.0</td>\n",
       "      <td>3020.889893</td>\n",
       "      <td>200.388428</td>\n",
       "    </tr>\n",
       "    <tr>\n",
       "      <th>1541</th>\n",
       "      <td>ID00419637202311204720264_-11</td>\n",
       "      <td>3020</td>\n",
       "      <td>100.0</td>\n",
       "      <td>3017.152344</td>\n",
       "      <td>203.031860</td>\n",
       "    </tr>\n",
       "    <tr>\n",
       "      <th>1542</th>\n",
       "      <td>ID00419637202311204720264_-10</td>\n",
       "      <td>3020</td>\n",
       "      <td>100.0</td>\n",
       "      <td>3013.414673</td>\n",
       "      <td>205.675049</td>\n",
       "    </tr>\n",
       "    <tr>\n",
       "      <th>1543</th>\n",
       "      <td>ID00419637202311204720264_-9</td>\n",
       "      <td>3020</td>\n",
       "      <td>100.0</td>\n",
       "      <td>3009.677246</td>\n",
       "      <td>208.318115</td>\n",
       "    </tr>\n",
       "    <tr>\n",
       "      <th>1544</th>\n",
       "      <td>ID00419637202311204720264_-8</td>\n",
       "      <td>3020</td>\n",
       "      <td>100.0</td>\n",
       "      <td>3005.939697</td>\n",
       "      <td>210.961182</td>\n",
       "    </tr>\n",
       "    <tr>\n",
       "      <th>1545</th>\n",
       "      <td>ID00419637202311204720264_-7</td>\n",
       "      <td>3020</td>\n",
       "      <td>100.0</td>\n",
       "      <td>3002.202148</td>\n",
       "      <td>213.604614</td>\n",
       "    </tr>\n",
       "    <tr>\n",
       "      <th>1546</th>\n",
       "      <td>ID00419637202311204720264_-6</td>\n",
       "      <td>3020</td>\n",
       "      <td>100.0</td>\n",
       "      <td>2998.464844</td>\n",
       "      <td>216.247925</td>\n",
       "    </tr>\n",
       "    <tr>\n",
       "      <th>1547</th>\n",
       "      <td>ID00419637202311204720264_-5</td>\n",
       "      <td>3020</td>\n",
       "      <td>100.0</td>\n",
       "      <td>2994.727051</td>\n",
       "      <td>218.890869</td>\n",
       "    </tr>\n",
       "    <tr>\n",
       "      <th>1548</th>\n",
       "      <td>ID00419637202311204720264_-4</td>\n",
       "      <td>3020</td>\n",
       "      <td>100.0</td>\n",
       "      <td>2990.989624</td>\n",
       "      <td>221.534302</td>\n",
       "    </tr>\n",
       "    <tr>\n",
       "      <th>1549</th>\n",
       "      <td>ID00419637202311204720264_-3</td>\n",
       "      <td>3020</td>\n",
       "      <td>100.0</td>\n",
       "      <td>2987.256958</td>\n",
       "      <td>224.176758</td>\n",
       "    </tr>\n",
       "  </tbody>\n",
       "</table>\n",
       "</div>"
      ],
      "text/plain": [
       "                       Patient_Week   FVC  Confidence         FVC1  \\\n",
       "1540  ID00419637202311204720264_-12  3020       100.0  3020.889893   \n",
       "1541  ID00419637202311204720264_-11  3020       100.0  3017.152344   \n",
       "1542  ID00419637202311204720264_-10  3020       100.0  3013.414673   \n",
       "1543   ID00419637202311204720264_-9  3020       100.0  3009.677246   \n",
       "1544   ID00419637202311204720264_-8  3020       100.0  3005.939697   \n",
       "1545   ID00419637202311204720264_-7  3020       100.0  3002.202148   \n",
       "1546   ID00419637202311204720264_-6  3020       100.0  2998.464844   \n",
       "1547   ID00419637202311204720264_-5  3020       100.0  2994.727051   \n",
       "1548   ID00419637202311204720264_-4  3020       100.0  2990.989624   \n",
       "1549   ID00419637202311204720264_-3  3020       100.0  2987.256958   \n",
       "\n",
       "      Confidence1  \n",
       "1540   200.388428  \n",
       "1541   203.031860  \n",
       "1542   205.675049  \n",
       "1543   208.318115  \n",
       "1544   210.961182  \n",
       "1545   213.604614  \n",
       "1546   216.247925  \n",
       "1547   218.890869  \n",
       "1548   221.534302  \n",
       "1549   224.176758  "
      ]
     },
     "execution_count": 58,
     "metadata": {},
     "output_type": "execute_result"
    }
   ],
   "source": [
    "sub['FVC1'] = 1.*pe[:, 1]\n",
    "sub['Confidence1'] = pe[:, 2] - pe[:, 0]\n",
    "subm = sub[['Patient_Week','FVC','Confidence','FVC1','Confidence1']].copy()\n",
    "subm.loc[~subm.FVC1.isnull()].head(10)"
   ]
  },
  {
   "cell_type": "code",
   "execution_count": 59,
   "metadata": {
    "execution": {
     "iopub.execute_input": "2021-12-01T11:54:54.074698Z",
     "iopub.status.busy": "2021-12-01T11:54:54.072616Z",
     "iopub.status.idle": "2021-12-01T11:54:54.078942Z",
     "shell.execute_reply": "2021-12-01T11:54:54.078333Z"
    },
    "papermill": {
     "duration": 0.41238,
     "end_time": "2021-12-01T11:54:54.079065",
     "exception": false,
     "start_time": "2021-12-01T11:54:53.666685",
     "status": "completed"
    },
    "tags": []
   },
   "outputs": [],
   "source": [
    "subm.loc[~subm.FVC1.isnull(),'FVC'] = subm.loc[~subm.FVC1.isnull(),'FVC1']\n",
    "sigma_mean = 60\n",
    "if sigma_mean<sigma_mean:\n",
    "    subm['Confidence'] = sigma_opt\n",
    "else:\n",
    "    subm.loc[~subm.FVC1.isnull(),'Confidence'] = subm.loc[~subm.FVC1.isnull(),'Confidence1']"
   ]
  },
  {
   "cell_type": "code",
   "execution_count": 60,
   "metadata": {
    "execution": {
     "iopub.execute_input": "2021-12-01T11:54:54.878852Z",
     "iopub.status.busy": "2021-12-01T11:54:54.877969Z",
     "iopub.status.idle": "2021-12-01T11:54:54.881821Z",
     "shell.execute_reply": "2021-12-01T11:54:54.882253Z"
    },
    "papermill": {
     "duration": 0.410226,
     "end_time": "2021-12-01T11:54:54.882391",
     "exception": false,
     "start_time": "2021-12-01T11:54:54.472165",
     "status": "completed"
    },
    "tags": []
   },
   "outputs": [
    {
     "data": {
      "text/html": [
       "<div>\n",
       "<style scoped>\n",
       "    .dataframe tbody tr th:only-of-type {\n",
       "        vertical-align: middle;\n",
       "    }\n",
       "\n",
       "    .dataframe tbody tr th {\n",
       "        vertical-align: top;\n",
       "    }\n",
       "\n",
       "    .dataframe thead th {\n",
       "        text-align: right;\n",
       "    }\n",
       "</style>\n",
       "<table border=\"1\" class=\"dataframe\">\n",
       "  <thead>\n",
       "    <tr style=\"text-align: right;\">\n",
       "      <th></th>\n",
       "      <th>Patient_Week</th>\n",
       "      <th>FVC</th>\n",
       "      <th>Confidence</th>\n",
       "      <th>FVC1</th>\n",
       "      <th>Confidence1</th>\n",
       "    </tr>\n",
       "  </thead>\n",
       "  <tbody>\n",
       "    <tr>\n",
       "      <th>1540</th>\n",
       "      <td>ID00419637202311204720264_-12</td>\n",
       "      <td>3020.889893</td>\n",
       "      <td>200.388428</td>\n",
       "      <td>3020.889893</td>\n",
       "      <td>200.388428</td>\n",
       "    </tr>\n",
       "    <tr>\n",
       "      <th>1541</th>\n",
       "      <td>ID00419637202311204720264_-11</td>\n",
       "      <td>3017.152344</td>\n",
       "      <td>203.031860</td>\n",
       "      <td>3017.152344</td>\n",
       "      <td>203.031860</td>\n",
       "    </tr>\n",
       "    <tr>\n",
       "      <th>1542</th>\n",
       "      <td>ID00419637202311204720264_-10</td>\n",
       "      <td>3013.414673</td>\n",
       "      <td>205.675049</td>\n",
       "      <td>3013.414673</td>\n",
       "      <td>205.675049</td>\n",
       "    </tr>\n",
       "    <tr>\n",
       "      <th>1543</th>\n",
       "      <td>ID00419637202311204720264_-9</td>\n",
       "      <td>3009.677246</td>\n",
       "      <td>208.318115</td>\n",
       "      <td>3009.677246</td>\n",
       "      <td>208.318115</td>\n",
       "    </tr>\n",
       "    <tr>\n",
       "      <th>1544</th>\n",
       "      <td>ID00419637202311204720264_-8</td>\n",
       "      <td>3005.939697</td>\n",
       "      <td>210.961182</td>\n",
       "      <td>3005.939697</td>\n",
       "      <td>210.961182</td>\n",
       "    </tr>\n",
       "  </tbody>\n",
       "</table>\n",
       "</div>"
      ],
      "text/plain": [
       "                       Patient_Week          FVC  Confidence         FVC1  \\\n",
       "1540  ID00419637202311204720264_-12  3020.889893  200.388428  3020.889893   \n",
       "1541  ID00419637202311204720264_-11  3017.152344  203.031860  3017.152344   \n",
       "1542  ID00419637202311204720264_-10  3013.414673  205.675049  3013.414673   \n",
       "1543   ID00419637202311204720264_-9  3009.677246  208.318115  3009.677246   \n",
       "1544   ID00419637202311204720264_-8  3005.939697  210.961182  3005.939697   \n",
       "\n",
       "      Confidence1  \n",
       "1540   200.388428  \n",
       "1541   203.031860  \n",
       "1542   205.675049  \n",
       "1543   208.318115  \n",
       "1544   210.961182  "
      ]
     },
     "execution_count": 60,
     "metadata": {},
     "output_type": "execute_result"
    }
   ],
   "source": [
    "subm.head()"
   ]
  },
  {
   "cell_type": "code",
   "execution_count": 61,
   "metadata": {
    "execution": {
     "iopub.execute_input": "2021-12-01T11:54:55.687206Z",
     "iopub.status.busy": "2021-12-01T11:54:55.686246Z",
     "iopub.status.idle": "2021-12-01T11:54:55.704296Z",
     "shell.execute_reply": "2021-12-01T11:54:55.704793Z"
    },
    "papermill": {
     "duration": 0.426003,
     "end_time": "2021-12-01T11:54:55.704933",
     "exception": false,
     "start_time": "2021-12-01T11:54:55.278930",
     "status": "completed"
    },
    "tags": []
   },
   "outputs": [
    {
     "data": {
      "text/html": [
       "<div>\n",
       "<style scoped>\n",
       "    .dataframe tbody tr th:only-of-type {\n",
       "        vertical-align: middle;\n",
       "    }\n",
       "\n",
       "    .dataframe tbody tr th {\n",
       "        vertical-align: top;\n",
       "    }\n",
       "\n",
       "    .dataframe thead th {\n",
       "        text-align: right;\n",
       "    }\n",
       "</style>\n",
       "<table border=\"1\" class=\"dataframe\">\n",
       "  <thead>\n",
       "    <tr style=\"text-align: right;\">\n",
       "      <th></th>\n",
       "      <th>count</th>\n",
       "      <th>mean</th>\n",
       "      <th>std</th>\n",
       "      <th>min</th>\n",
       "      <th>25%</th>\n",
       "      <th>50%</th>\n",
       "      <th>75%</th>\n",
       "      <th>max</th>\n",
       "    </tr>\n",
       "  </thead>\n",
       "  <tbody>\n",
       "    <tr>\n",
       "      <th>FVC</th>\n",
       "      <td>730.0</td>\n",
       "      <td>2586.564960</td>\n",
       "      <td>423.627717</td>\n",
       "      <td>1714.916565</td>\n",
       "      <td>2449.447144</td>\n",
       "      <td>2656.450867</td>\n",
       "      <td>2878.342987</td>\n",
       "      <td>3333.343872</td>\n",
       "    </tr>\n",
       "    <tr>\n",
       "      <th>Confidence</th>\n",
       "      <td>730.0</td>\n",
       "      <td>325.703417</td>\n",
       "      <td>71.606279</td>\n",
       "      <td>175.553345</td>\n",
       "      <td>276.396606</td>\n",
       "      <td>326.479309</td>\n",
       "      <td>390.631500</td>\n",
       "      <td>445.628662</td>\n",
       "    </tr>\n",
       "    <tr>\n",
       "      <th>FVC1</th>\n",
       "      <td>730.0</td>\n",
       "      <td>2586.564960</td>\n",
       "      <td>423.627717</td>\n",
       "      <td>1714.916565</td>\n",
       "      <td>2449.447144</td>\n",
       "      <td>2656.450867</td>\n",
       "      <td>2878.342987</td>\n",
       "      <td>3333.343872</td>\n",
       "    </tr>\n",
       "    <tr>\n",
       "      <th>Confidence1</th>\n",
       "      <td>730.0</td>\n",
       "      <td>325.703417</td>\n",
       "      <td>71.606279</td>\n",
       "      <td>175.553345</td>\n",
       "      <td>276.396606</td>\n",
       "      <td>326.479309</td>\n",
       "      <td>390.631500</td>\n",
       "      <td>445.628662</td>\n",
       "    </tr>\n",
       "  </tbody>\n",
       "</table>\n",
       "</div>"
      ],
      "text/plain": [
       "             count         mean         std          min          25%  \\\n",
       "FVC          730.0  2586.564960  423.627717  1714.916565  2449.447144   \n",
       "Confidence   730.0   325.703417   71.606279   175.553345   276.396606   \n",
       "FVC1         730.0  2586.564960  423.627717  1714.916565  2449.447144   \n",
       "Confidence1  730.0   325.703417   71.606279   175.553345   276.396606   \n",
       "\n",
       "                     50%          75%          max  \n",
       "FVC          2656.450867  2878.342987  3333.343872  \n",
       "Confidence    326.479309   390.631500   445.628662  \n",
       "FVC1         2656.450867  2878.342987  3333.343872  \n",
       "Confidence1   326.479309   390.631500   445.628662  "
      ]
     },
     "execution_count": 61,
     "metadata": {},
     "output_type": "execute_result"
    }
   ],
   "source": [
    "subm.describe().T"
   ]
  },
  {
   "cell_type": "code",
   "execution_count": 62,
   "metadata": {
    "execution": {
     "iopub.execute_input": "2021-12-01T11:54:56.550997Z",
     "iopub.status.busy": "2021-12-01T11:54:56.550229Z",
     "iopub.status.idle": "2021-12-01T11:54:56.554146Z",
     "shell.execute_reply": "2021-12-01T11:54:56.553605Z"
    },
    "papermill": {
     "duration": 0.422184,
     "end_time": "2021-12-01T11:54:56.554253",
     "exception": false,
     "start_time": "2021-12-01T11:54:56.132069",
     "status": "completed"
    },
    "tags": []
   },
   "outputs": [],
   "source": [
    "otest = pd.read_csv('../input/osic-pulmonary-fibrosis-progression/test.csv')\n",
    "for i in range(len(otest)):\n",
    "    subm.loc[subm['Patient_Week']==otest.Patient[i]+'_'+str(otest.Weeks[i]), 'FVC'] = otest.FVC[i]\n",
    "    subm.loc[subm['Patient_Week']==otest.Patient[i]+'_'+str(otest.Weeks[i]), 'Confidence'] = 0.1"
   ]
  },
  {
   "cell_type": "code",
   "execution_count": 63,
   "metadata": {
    "execution": {
     "iopub.execute_input": "2021-12-01T11:54:57.341596Z",
     "iopub.status.busy": "2021-12-01T11:54:57.338174Z",
     "iopub.status.idle": "2021-12-01T11:54:57.347278Z",
     "shell.execute_reply": "2021-12-01T11:54:57.346833Z"
    },
    "papermill": {
     "duration": 0.403144,
     "end_time": "2021-12-01T11:54:57.347372",
     "exception": false,
     "start_time": "2021-12-01T11:54:56.944228",
     "status": "completed"
    },
    "tags": []
   },
   "outputs": [],
   "source": [
    "subm[[\"Patient_Week\",\"FVC\",\"Confidence\"]].to_csv(\"submission_regression.csv\", index=False)"
   ]
  },
  {
   "cell_type": "code",
   "execution_count": 64,
   "metadata": {
    "execution": {
     "iopub.execute_input": "2021-12-01T11:54:58.130467Z",
     "iopub.status.busy": "2021-12-01T11:54:58.129918Z",
     "iopub.status.idle": "2021-12-01T11:54:58.134191Z",
     "shell.execute_reply": "2021-12-01T11:54:58.133655Z"
    },
    "papermill": {
     "duration": 0.399491,
     "end_time": "2021-12-01T11:54:58.134293",
     "exception": false,
     "start_time": "2021-12-01T11:54:57.734802",
     "status": "completed"
    },
    "tags": []
   },
   "outputs": [],
   "source": [
    "reg_sub = subm[[\"Patient_Week\",\"FVC\",\"Confidence\"]].copy()"
   ]
  },
  {
   "cell_type": "code",
   "execution_count": 65,
   "metadata": {
    "execution": {
     "iopub.execute_input": "2021-12-01T11:54:58.973777Z",
     "iopub.status.busy": "2021-12-01T11:54:58.971999Z",
     "iopub.status.idle": "2021-12-01T11:54:58.979034Z",
     "shell.execute_reply": "2021-12-01T11:54:58.978408Z"
    },
    "papermill": {
     "duration": 0.418424,
     "end_time": "2021-12-01T11:54:58.979144",
     "exception": false,
     "start_time": "2021-12-01T11:54:58.560720",
     "status": "completed"
    },
    "tags": []
   },
   "outputs": [],
   "source": [
    "df1 = img_sub.sort_values(by=['Patient_Week'], ascending=True).reset_index(drop=True)\n",
    "df2 = reg_sub.sort_values(by=['Patient_Week'], ascending=True).reset_index(drop=True)"
   ]
  },
  {
   "cell_type": "code",
   "execution_count": 66,
   "metadata": {
    "execution": {
     "iopub.execute_input": "2021-12-01T11:54:59.770717Z",
     "iopub.status.busy": "2021-12-01T11:54:59.769836Z",
     "iopub.status.idle": "2021-12-01T11:54:59.773267Z",
     "shell.execute_reply": "2021-12-01T11:54:59.773785Z"
    },
    "papermill": {
     "duration": 0.405767,
     "end_time": "2021-12-01T11:54:59.773942",
     "exception": false,
     "start_time": "2021-12-01T11:54:59.368175",
     "status": "completed"
    },
    "tags": []
   },
   "outputs": [
    {
     "data": {
      "text/html": [
       "<div>\n",
       "<style scoped>\n",
       "    .dataframe tbody tr th:only-of-type {\n",
       "        vertical-align: middle;\n",
       "    }\n",
       "\n",
       "    .dataframe tbody tr th {\n",
       "        vertical-align: top;\n",
       "    }\n",
       "\n",
       "    .dataframe thead th {\n",
       "        text-align: right;\n",
       "    }\n",
       "</style>\n",
       "<table border=\"1\" class=\"dataframe\">\n",
       "  <thead>\n",
       "    <tr style=\"text-align: right;\">\n",
       "      <th></th>\n",
       "      <th>Patient_Week</th>\n",
       "      <th>FVC</th>\n",
       "      <th>Confidence</th>\n",
       "    </tr>\n",
       "  </thead>\n",
       "  <tbody>\n",
       "    <tr>\n",
       "      <th>0</th>\n",
       "      <td>ID00419637202311204720264_-1</td>\n",
       "      <td>3005.903170</td>\n",
       "      <td>175.745002</td>\n",
       "    </tr>\n",
       "    <tr>\n",
       "      <th>1</th>\n",
       "      <td>ID00419637202311204720264_-10</td>\n",
       "      <td>3038.902256</td>\n",
       "      <td>174.333223</td>\n",
       "    </tr>\n",
       "    <tr>\n",
       "      <th>2</th>\n",
       "      <td>ID00419637202311204720264_-11</td>\n",
       "      <td>3042.573199</td>\n",
       "      <td>174.175651</td>\n",
       "    </tr>\n",
       "    <tr>\n",
       "      <th>3</th>\n",
       "      <td>ID00419637202311204720264_-12</td>\n",
       "      <td>3046.244069</td>\n",
       "      <td>174.017932</td>\n",
       "    </tr>\n",
       "    <tr>\n",
       "      <th>4</th>\n",
       "      <td>ID00419637202311204720264_-2</td>\n",
       "      <td>3009.556243</td>\n",
       "      <td>175.590506</td>\n",
       "    </tr>\n",
       "  </tbody>\n",
       "</table>\n",
       "</div>"
      ],
      "text/plain": [
       "                    Patient_Week          FVC  Confidence\n",
       "0   ID00419637202311204720264_-1  3005.903170  175.745002\n",
       "1  ID00419637202311204720264_-10  3038.902256  174.333223\n",
       "2  ID00419637202311204720264_-11  3042.573199  174.175651\n",
       "3  ID00419637202311204720264_-12  3046.244069  174.017932\n",
       "4   ID00419637202311204720264_-2  3009.556243  175.590506"
      ]
     },
     "execution_count": 66,
     "metadata": {},
     "output_type": "execute_result"
    }
   ],
   "source": [
    "df = df1[['Patient_Week']].copy()\n",
    "df['FVC'] = (0.4*df1['FVC'] + 0.6*df2['FVC'])\n",
    "df['Confidence'] = (0.4*df1['Confidence'] + 0.6*df2['Confidence'])\n",
    "df.head()"
   ]
  },
  {
   "cell_type": "code",
   "execution_count": 67,
   "metadata": {
    "execution": {
     "iopub.execute_input": "2021-12-01T11:55:00.574305Z",
     "iopub.status.busy": "2021-12-01T11:55:00.573477Z",
     "iopub.status.idle": "2021-12-01T11:55:00.582236Z",
     "shell.execute_reply": "2021-12-01T11:55:00.581719Z"
    },
    "papermill": {
     "duration": 0.405952,
     "end_time": "2021-12-01T11:55:00.582345",
     "exception": false,
     "start_time": "2021-12-01T11:55:00.176393",
     "status": "completed"
    },
    "tags": []
   },
   "outputs": [],
   "source": [
    "df.to_csv('submission.csv', index=False)"
   ]
  }
 ],
 "metadata": {
  "kernelspec": {
   "display_name": "Python 3",
   "language": "python",
   "name": "python3"
  },
  "language_info": {
   "codemirror_mode": {
    "name": "ipython",
    "version": 3
   },
   "file_extension": ".py",
   "mimetype": "text/x-python",
   "name": "python",
   "nbconvert_exporter": "python",
   "pygments_lexer": "ipython3",
   "version": "3.7.6"
  },
  "papermill": {
   "duration": 1460.57243,
   "end_time": "2021-12-01T11:55:02.130582",
   "environment_variables": {},
   "exception": null,
   "input_path": "__notebook__.ipynb",
   "output_path": "__notebook__.ipynb",
   "parameters": {},
   "start_time": "2021-12-01T11:30:41.558152",
   "version": "2.1.0"
  },
  "widgets": {
   "application/vnd.jupyter.widget-state+json": {
    "state": {
     "00583e54680945dea207701c23c7ddb0": {
      "model_module": "@jupyter-widgets/base",
      "model_module_version": "1.2.0",
      "model_name": "LayoutModel",
      "state": {
       "_model_module": "@jupyter-widgets/base",
       "_model_module_version": "1.2.0",
       "_model_name": "LayoutModel",
       "_view_count": null,
       "_view_module": "@jupyter-widgets/base",
       "_view_module_version": "1.2.0",
       "_view_name": "LayoutView",
       "align_content": null,
       "align_items": null,
       "align_self": null,
       "border": null,
       "bottom": null,
       "display": null,
       "flex": null,
       "flex_flow": null,
       "grid_area": null,
       "grid_auto_columns": null,
       "grid_auto_flow": null,
       "grid_auto_rows": null,
       "grid_column": null,
       "grid_gap": null,
       "grid_row": null,
       "grid_template_areas": null,
       "grid_template_columns": null,
       "grid_template_rows": null,
       "height": null,
       "justify_content": null,
       "justify_items": null,
       "left": null,
       "margin": null,
       "max_height": null,
       "max_width": null,
       "min_height": null,
       "min_width": null,
       "object_fit": null,
       "object_position": null,
       "order": null,
       "overflow": null,
       "overflow_x": null,
       "overflow_y": null,
       "padding": null,
       "right": null,
       "top": null,
       "visibility": null,
       "width": null
      }
     },
     "1bccb784457345139c456d114baf1b00": {
      "model_module": "@jupyter-widgets/controls",
      "model_module_version": "1.5.0",
      "model_name": "FloatProgressModel",
      "state": {
       "_dom_classes": [],
       "_model_module": "@jupyter-widgets/controls",
       "_model_module_version": "1.5.0",
       "_model_name": "FloatProgressModel",
       "_view_count": null,
       "_view_module": "@jupyter-widgets/controls",
       "_view_module_version": "1.5.0",
       "_view_name": "ProgressView",
       "bar_style": "success",
       "description": "100%",
       "description_tooltip": null,
       "layout": "IPY_MODEL_f55cc76b11e6442a9489aa0bc07a7c12",
       "max": 9.0,
       "min": 0.0,
       "orientation": "horizontal",
       "style": "IPY_MODEL_903a5e57ff37451f88abd2ad5cf49df5",
       "value": 9.0
      }
     },
     "2b79de86c74d407b80670b6798edd811": {
      "model_module": "@jupyter-widgets/controls",
      "model_module_version": "1.5.0",
      "model_name": "DescriptionStyleModel",
      "state": {
       "_model_module": "@jupyter-widgets/controls",
       "_model_module_version": "1.5.0",
       "_model_name": "DescriptionStyleModel",
       "_view_count": null,
       "_view_module": "@jupyter-widgets/base",
       "_view_module_version": "1.2.0",
       "_view_name": "StyleView",
       "description_width": ""
      }
     },
     "3a69f451921a45608cbdf706867401fa": {
      "model_module": "@jupyter-widgets/base",
      "model_module_version": "1.2.0",
      "model_name": "LayoutModel",
      "state": {
       "_model_module": "@jupyter-widgets/base",
       "_model_module_version": "1.2.0",
       "_model_name": "LayoutModel",
       "_view_count": null,
       "_view_module": "@jupyter-widgets/base",
       "_view_module_version": "1.2.0",
       "_view_name": "LayoutView",
       "align_content": null,
       "align_items": null,
       "align_self": null,
       "border": null,
       "bottom": null,
       "display": null,
       "flex": null,
       "flex_flow": null,
       "grid_area": null,
       "grid_auto_columns": null,
       "grid_auto_flow": null,
       "grid_auto_rows": null,
       "grid_column": null,
       "grid_gap": null,
       "grid_row": null,
       "grid_template_areas": null,
       "grid_template_columns": null,
       "grid_template_rows": null,
       "height": null,
       "justify_content": null,
       "justify_items": null,
       "left": null,
       "margin": null,
       "max_height": null,
       "max_width": null,
       "min_height": null,
       "min_width": null,
       "object_fit": null,
       "object_position": null,
       "order": null,
       "overflow": null,
       "overflow_x": null,
       "overflow_y": null,
       "padding": null,
       "right": null,
       "top": null,
       "visibility": null,
       "width": null
      }
     },
     "49dc4aa1e87442179cff81deabc5133a": {
      "model_module": "@jupyter-widgets/controls",
      "model_module_version": "1.5.0",
      "model_name": "HBoxModel",
      "state": {
       "_dom_classes": [],
       "_model_module": "@jupyter-widgets/controls",
       "_model_module_version": "1.5.0",
       "_model_name": "HBoxModel",
       "_view_count": null,
       "_view_module": "@jupyter-widgets/controls",
       "_view_module_version": "1.5.0",
       "_view_name": "HBoxView",
       "box_style": "",
       "children": [
        "IPY_MODEL_1bccb784457345139c456d114baf1b00",
        "IPY_MODEL_e9b9d696e6c94a479d7759da3891b037"
       ],
       "layout": "IPY_MODEL_00583e54680945dea207701c23c7ddb0"
      }
     },
     "705f4d74f3174b3fb057a6ce2e0e9419": {
      "model_module": "@jupyter-widgets/base",
      "model_module_version": "1.2.0",
      "model_name": "LayoutModel",
      "state": {
       "_model_module": "@jupyter-widgets/base",
       "_model_module_version": "1.2.0",
       "_model_name": "LayoutModel",
       "_view_count": null,
       "_view_module": "@jupyter-widgets/base",
       "_view_module_version": "1.2.0",
       "_view_name": "LayoutView",
       "align_content": null,
       "align_items": null,
       "align_self": null,
       "border": null,
       "bottom": null,
       "display": null,
       "flex": null,
       "flex_flow": null,
       "grid_area": null,
       "grid_auto_columns": null,
       "grid_auto_flow": null,
       "grid_auto_rows": null,
       "grid_column": null,
       "grid_gap": null,
       "grid_row": null,
       "grid_template_areas": null,
       "grid_template_columns": null,
       "grid_template_rows": null,
       "height": null,
       "justify_content": null,
       "justify_items": null,
       "left": null,
       "margin": null,
       "max_height": null,
       "max_width": null,
       "min_height": null,
       "min_width": null,
       "object_fit": null,
       "object_position": null,
       "order": null,
       "overflow": null,
       "overflow_x": null,
       "overflow_y": null,
       "padding": null,
       "right": null,
       "top": null,
       "visibility": null,
       "width": null
      }
     },
     "70c57470a7e849939f91007b08b22236": {
      "model_module": "@jupyter-widgets/base",
      "model_module_version": "1.2.0",
      "model_name": "LayoutModel",
      "state": {
       "_model_module": "@jupyter-widgets/base",
       "_model_module_version": "1.2.0",
       "_model_name": "LayoutModel",
       "_view_count": null,
       "_view_module": "@jupyter-widgets/base",
       "_view_module_version": "1.2.0",
       "_view_name": "LayoutView",
       "align_content": null,
       "align_items": null,
       "align_self": null,
       "border": null,
       "bottom": null,
       "display": null,
       "flex": null,
       "flex_flow": null,
       "grid_area": null,
       "grid_auto_columns": null,
       "grid_auto_flow": null,
       "grid_auto_rows": null,
       "grid_column": null,
       "grid_gap": null,
       "grid_row": null,
       "grid_template_areas": null,
       "grid_template_columns": null,
       "grid_template_rows": null,
       "height": null,
       "justify_content": null,
       "justify_items": null,
       "left": null,
       "margin": null,
       "max_height": null,
       "max_width": null,
       "min_height": null,
       "min_width": null,
       "object_fit": null,
       "object_position": null,
       "order": null,
       "overflow": null,
       "overflow_x": null,
       "overflow_y": null,
       "padding": null,
       "right": null,
       "top": null,
       "visibility": null,
       "width": null
      }
     },
     "903a5e57ff37451f88abd2ad5cf49df5": {
      "model_module": "@jupyter-widgets/controls",
      "model_module_version": "1.5.0",
      "model_name": "ProgressStyleModel",
      "state": {
       "_model_module": "@jupyter-widgets/controls",
       "_model_module_version": "1.5.0",
       "_model_name": "ProgressStyleModel",
       "_view_count": null,
       "_view_module": "@jupyter-widgets/base",
       "_view_module_version": "1.2.0",
       "_view_name": "StyleView",
       "bar_color": null,
       "description_width": "initial"
      }
     },
     "98ef9ba7e1d24631a8a4c6c5a8eb9758": {
      "model_module": "@jupyter-widgets/controls",
      "model_module_version": "1.5.0",
      "model_name": "FloatProgressModel",
      "state": {
       "_dom_classes": [],
       "_model_module": "@jupyter-widgets/controls",
       "_model_module_version": "1.5.0",
       "_model_name": "FloatProgressModel",
       "_view_count": null,
       "_view_module": "@jupyter-widgets/controls",
       "_view_module_version": "1.5.0",
       "_view_name": "ProgressView",
       "bar_style": "success",
       "description": "",
       "description_tooltip": null,
       "layout": "IPY_MODEL_3a69f451921a45608cbdf706867401fa",
       "max": 1.0,
       "min": 0.0,
       "orientation": "horizontal",
       "style": "IPY_MODEL_fa035e75479e44b1a9a4c451663bbc6c",
       "value": 1.0
      }
     },
     "abf3ebd0a2e24140bef8728bbeb99159": {
      "model_module": "@jupyter-widgets/controls",
      "model_module_version": "1.5.0",
      "model_name": "HTMLModel",
      "state": {
       "_dom_classes": [],
       "_model_module": "@jupyter-widgets/controls",
       "_model_module_version": "1.5.0",
       "_model_name": "HTMLModel",
       "_view_count": null,
       "_view_module": "@jupyter-widgets/controls",
       "_view_module_version": "1.5.0",
       "_view_name": "HTMLView",
       "description": "",
       "description_tooltip": null,
       "layout": "IPY_MODEL_cc56cf65ca8d41dc8337a33a7ffe6fb5",
       "placeholder": "​",
       "style": "IPY_MODEL_2b79de86c74d407b80670b6798edd811",
       "value": " 176/? [00:01&lt;00:00, 145.08it/s]"
      }
     },
     "c1a4d0dc7b144a978ef1c72f947da1c8": {
      "model_module": "@jupyter-widgets/controls",
      "model_module_version": "1.5.0",
      "model_name": "HBoxModel",
      "state": {
       "_dom_classes": [],
       "_model_module": "@jupyter-widgets/controls",
       "_model_module_version": "1.5.0",
       "_model_name": "HBoxModel",
       "_view_count": null,
       "_view_module": "@jupyter-widgets/controls",
       "_view_module_version": "1.5.0",
       "_view_name": "HBoxView",
       "box_style": "",
       "children": [
        "IPY_MODEL_98ef9ba7e1d24631a8a4c6c5a8eb9758",
        "IPY_MODEL_abf3ebd0a2e24140bef8728bbeb99159"
       ],
       "layout": "IPY_MODEL_705f4d74f3174b3fb057a6ce2e0e9419"
      }
     },
     "cb87c45eaa85440694c9f5ffdfe947e1": {
      "model_module": "@jupyter-widgets/controls",
      "model_module_version": "1.5.0",
      "model_name": "DescriptionStyleModel",
      "state": {
       "_model_module": "@jupyter-widgets/controls",
       "_model_module_version": "1.5.0",
       "_model_name": "DescriptionStyleModel",
       "_view_count": null,
       "_view_module": "@jupyter-widgets/base",
       "_view_module_version": "1.2.0",
       "_view_name": "StyleView",
       "description_width": ""
      }
     },
     "cc56cf65ca8d41dc8337a33a7ffe6fb5": {
      "model_module": "@jupyter-widgets/base",
      "model_module_version": "1.2.0",
      "model_name": "LayoutModel",
      "state": {
       "_model_module": "@jupyter-widgets/base",
       "_model_module_version": "1.2.0",
       "_model_name": "LayoutModel",
       "_view_count": null,
       "_view_module": "@jupyter-widgets/base",
       "_view_module_version": "1.2.0",
       "_view_name": "LayoutView",
       "align_content": null,
       "align_items": null,
       "align_self": null,
       "border": null,
       "bottom": null,
       "display": null,
       "flex": null,
       "flex_flow": null,
       "grid_area": null,
       "grid_auto_columns": null,
       "grid_auto_flow": null,
       "grid_auto_rows": null,
       "grid_column": null,
       "grid_gap": null,
       "grid_row": null,
       "grid_template_areas": null,
       "grid_template_columns": null,
       "grid_template_rows": null,
       "height": null,
       "justify_content": null,
       "justify_items": null,
       "left": null,
       "margin": null,
       "max_height": null,
       "max_width": null,
       "min_height": null,
       "min_width": null,
       "object_fit": null,
       "object_position": null,
       "order": null,
       "overflow": null,
       "overflow_x": null,
       "overflow_y": null,
       "padding": null,
       "right": null,
       "top": null,
       "visibility": null,
       "width": null
      }
     },
     "e9b9d696e6c94a479d7759da3891b037": {
      "model_module": "@jupyter-widgets/controls",
      "model_module_version": "1.5.0",
      "model_name": "HTMLModel",
      "state": {
       "_dom_classes": [],
       "_model_module": "@jupyter-widgets/controls",
       "_model_module_version": "1.5.0",
       "_model_name": "HTMLModel",
       "_view_count": null,
       "_view_module": "@jupyter-widgets/controls",
       "_view_module_version": "1.5.0",
       "_view_name": "HTMLView",
       "description": "",
       "description_tooltip": null,
       "layout": "IPY_MODEL_70c57470a7e849939f91007b08b22236",
       "placeholder": "​",
       "style": "IPY_MODEL_cb87c45eaa85440694c9f5ffdfe947e1",
       "value": " 9/9 [15:08&lt;00:00, 100.95s/it]"
      }
     },
     "f55cc76b11e6442a9489aa0bc07a7c12": {
      "model_module": "@jupyter-widgets/base",
      "model_module_version": "1.2.0",
      "model_name": "LayoutModel",
      "state": {
       "_model_module": "@jupyter-widgets/base",
       "_model_module_version": "1.2.0",
       "_model_name": "LayoutModel",
       "_view_count": null,
       "_view_module": "@jupyter-widgets/base",
       "_view_module_version": "1.2.0",
       "_view_name": "LayoutView",
       "align_content": null,
       "align_items": null,
       "align_self": null,
       "border": null,
       "bottom": null,
       "display": null,
       "flex": null,
       "flex_flow": null,
       "grid_area": null,
       "grid_auto_columns": null,
       "grid_auto_flow": null,
       "grid_auto_rows": null,
       "grid_column": null,
       "grid_gap": null,
       "grid_row": null,
       "grid_template_areas": null,
       "grid_template_columns": null,
       "grid_template_rows": null,
       "height": null,
       "justify_content": null,
       "justify_items": null,
       "left": null,
       "margin": null,
       "max_height": null,
       "max_width": null,
       "min_height": null,
       "min_width": null,
       "object_fit": null,
       "object_position": null,
       "order": null,
       "overflow": null,
       "overflow_x": null,
       "overflow_y": null,
       "padding": null,
       "right": null,
       "top": null,
       "visibility": null,
       "width": null
      }
     },
     "fa035e75479e44b1a9a4c451663bbc6c": {
      "model_module": "@jupyter-widgets/controls",
      "model_module_version": "1.5.0",
      "model_name": "ProgressStyleModel",
      "state": {
       "_model_module": "@jupyter-widgets/controls",
       "_model_module_version": "1.5.0",
       "_model_name": "ProgressStyleModel",
       "_view_count": null,
       "_view_module": "@jupyter-widgets/base",
       "_view_module_version": "1.2.0",
       "_view_name": "StyleView",
       "bar_color": null,
       "description_width": "initial"
      }
     }
    },
    "version_major": 2,
    "version_minor": 0
   }
  }
 },
 "nbformat": 4,
 "nbformat_minor": 4
}
